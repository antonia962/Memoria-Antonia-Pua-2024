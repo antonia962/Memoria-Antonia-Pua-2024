{
  "nbformat": 4,
  "nbformat_minor": 0,
  "metadata": {
    "colab": {
      "provenance": []
    },
    "kernelspec": {
      "name": "python3",
      "display_name": "Python 3"
    },
    "language_info": {
      "name": "python"
    }
  },
  "cells": [
    {
      "cell_type": "code",
      "execution_count": 2,
      "metadata": {
        "id": "fJrX8jLr7SzY"
      },
      "outputs": [],
      "source": [
        "#LIBRERIAS\n",
        "import numpy as np\n",
        "import matplotlib.pyplot as plt\n",
        "import seaborn as sns\n",
        "import pandas as pd\n",
        "from scipy.signal import find_peaks"
      ]
    },
    {
      "cell_type": "code",
      "source": [
        "# Ruta del archivo Excel\n",
        "ruta_archivo = '/content/consolidado_motores.xlsx'\n",
        "# Cargar el archivo Excel en un DataFrame\n",
        "consolidado = pd.read_excel(ruta_archivo, sheet_name='Consolidado')"
      ],
      "metadata": {
        "id": "T2PQW8yQ7YpG"
      },
      "execution_count": 3,
      "outputs": []
    },
    {
      "cell_type": "markdown",
      "source": [
        "# ANALISIS GENERAL"
      ],
      "metadata": {
        "id": "3wEOicLK4pXN"
      }
    },
    {
      "cell_type": "code",
      "source": [
        "# Seleccionar solo las columnas de RPM y Potencia\n",
        "rpm_potencia = consolidado[['R.P.M', 'POTENCIA (HP)']]\n",
        "\n",
        "# Calcular estadísticas descriptivas para RPM y Potencia\n",
        "estadisticas_rpm_potencia = rpm_potencia.describe()\n",
        "\n",
        "# Imprimir la tabla resumen\n",
        "print(\"\\nTabla Resumen de RPM y Potencia:\")\n",
        "estadisticas_rpm_potencia"
      ],
      "metadata": {
        "id": "DsBjLFEVqsKn"
      },
      "execution_count": null,
      "outputs": []
    },
    {
      "cell_type": "code",
      "source": [
        "# Calcular la cantidad de datos nulos por columna\n",
        "cantidad_nulos = consolidado.isnull().sum()\n",
        "\n",
        "# Imprimir la cantidad de datos nulos por columna\n",
        "print(\"\\nCantidad de datos nulos por columna:\")\n",
        "cantidad_nulos"
      ],
      "metadata": {
        "id": "RsVPfdGm8cLr"
      },
      "execution_count": null,
      "outputs": []
    },
    {
      "cell_type": "code",
      "source": [
        "potencia = consolidado['POTENCIA (HP)']\n",
        "conteos = potencia.value_counts()\n",
        "print(conteos)"
      ],
      "metadata": {
        "id": "XqiBCsOzpT8Z"
      },
      "execution_count": null,
      "outputs": []
    },
    {
      "cell_type": "code",
      "source": [
        "voltajes = consolidado['VOLTAJE']\n",
        "conteos = voltajes.value_counts()\n",
        "print(conteos)"
      ],
      "metadata": {
        "id": "ipmUlhXhO09V"
      },
      "execution_count": null,
      "outputs": []
    },
    {
      "cell_type": "markdown",
      "source": [
        "# SEGMENTACIÓN DE VOLTAJE"
      ],
      "metadata": {
        "id": "7pnGW43G2_4L"
      }
    },
    {
      "cell_type": "markdown",
      "source": [
        "CANTIDAD DE MOTORES EN CADA VOLTAJE"
      ],
      "metadata": {
        "id": "zPE3RYRE3H6x"
      }
    },
    {
      "cell_type": "code",
      "source": [
        "# Contar el número de registros en cada categoría\n",
        "conteos = consolidado['SEG_VOLT'].value_counts()\n",
        "print(conteos)"
      ],
      "metadata": {
        "id": "KJAO8UCdvg0e"
      },
      "execution_count": null,
      "outputs": []
    },
    {
      "cell_type": "code",
      "source": [
        "# Contar el número de registros en cada categoría\n",
        "conteos = consolidado['SEG_VOLT'].value_counts()\n",
        "\n",
        "# Crear el gráfico de barras\n",
        "plt.figure(figsize=(10, 6))  # Ajustar el tamaño del gráfico\n",
        "plt.bar(conteos.index, conteos.values)\n",
        "plt.xlabel(\"Segmento de Voltaje\")\n",
        "plt.ylabel(\"Cantidad de Motores\")\n",
        "plt.title(\"Cantidad de Motores por Segmento de Voltaje\")\n",
        "\n",
        "# Agregar etiquetas con las cantidades\n",
        "for i, v in enumerate(conteos.values):\n",
        "    plt.text(i, v + 0.5, str(v), ha='center', va='bottom')\n",
        "\n",
        "plt.xticks(rotation=45, ha='right')  # Rotar las etiquetas del eje x para mejor visualización\n",
        "plt.tight_layout()  # Ajustar el diseño para evitar superposición\n",
        "plt.show()\n"
      ],
      "metadata": {
        "id": "9iyjfypoopx0"
      },
      "execution_count": null,
      "outputs": []
    },
    {
      "cell_type": "markdown",
      "source": [
        "CANTIDAD DE MOTORES POR PROCESO SEGMENTADO POR VOLTAJE"
      ],
      "metadata": {
        "id": "K5GCrgkC3g1L"
      }
    },
    {
      "cell_type": "code",
      "source": [
        "conteo_seg_volt_por_proceso = consolidado.groupby(['PROCESO', 'SEG_VOLT']).size()\n",
        "print(conteo_seg_volt_por_proceso)\n"
      ],
      "metadata": {
        "id": "K4lDBFk0xKU_"
      },
      "execution_count": null,
      "outputs": []
    },
    {
      "cell_type": "markdown",
      "source": [
        "GRAFICO (Se puede mejorar)"
      ],
      "metadata": {
        "id": "So7IABHF3s6q"
      }
    },
    {
      "cell_type": "code",
      "source": [
        "# Definir una paleta de colores agradable usando seaborn\n",
        "paleta_colores = sns.color_palette(\"husl\", 5)  # Puedes cambiar \"husl\" por otras paletas como \"coolwarm\", \"Set2\", etc.\n",
        "\n",
        "# Agrupar los datos por proceso y seg_volt\n",
        "conteo_seg_volt_por_proceso = consolidado.groupby(['PROCESO', 'SEG_VOLT']).size()\n",
        "\n",
        "# Crear el histograma con la nueva paleta de colores\n",
        "ax = conteo_seg_volt_por_proceso.unstack().plot(kind='bar', figsize=(15, 8), color=paleta_colores)\n",
        "\n",
        "# Agregar el valor de cada segmento en las barras\n",
        "for p in ax.patches:\n",
        "    height = p.get_height()\n",
        "    if height > 0:  # Para evitar etiquetas de valor en barras de altura 0\n",
        "        x = p.get_x() + p.get_width() / 2\n",
        "        y = height\n",
        "        ax.text(x, y, str(int(height)), ha='center', va='bottom')\n",
        "\n",
        "plt.xlabel('Proceso')\n",
        "plt.ylabel('Cantidad')\n",
        "plt.title('Cantidad por Proceso, segmentado por SEG_VOLT')\n",
        "plt.xticks(rotation=45, ha='right')\n",
        "plt.legend(title='SEG_VOLT')\n",
        "plt.tight_layout()\n",
        "plt.show()\n"
      ],
      "metadata": {
        "id": "2gRSSIS-dYh2"
      },
      "execution_count": null,
      "outputs": []
    },
    {
      "cell_type": "markdown",
      "source": [
        "# ANALISIS DE RPM"
      ],
      "metadata": {
        "id": "lLpk4U2w3_Ym"
      }
    },
    {
      "cell_type": "markdown",
      "source": [
        "CONTEO DE MOTORES POR RPM"
      ],
      "metadata": {
        "id": "vLJt4ur8brUj"
      }
    },
    {
      "cell_type": "code",
      "source": [
        "conteos = consolidado['R.P.M'].value_counts()\n",
        "print(conteos)"
      ],
      "metadata": {
        "id": "qhMwVpW94n4S"
      },
      "execution_count": null,
      "outputs": []
    },
    {
      "cell_type": "code",
      "source": [
        "conteos = consolidado['Frecuencia'].value_counts()\n",
        "print(conteos)"
      ],
      "metadata": {
        "id": "9tkdEuCOAoj-"
      },
      "execution_count": null,
      "outputs": []
    },
    {
      "cell_type": "code",
      "source": [
        "conteos = consolidado['Polos'].value_counts()\n",
        "print(conteos)"
      ],
      "metadata": {
        "id": "zPGuPmyLA0eZ"
      },
      "execution_count": null,
      "outputs": []
    },
    {
      "cell_type": "markdown",
      "source": [
        "**Distribución R.P.M**"
      ],
      "metadata": {
        "id": "tZWKLiP3kTKy"
      }
    },
    {
      "cell_type": "code",
      "source": [
        "# Crear el histograma de la columna 'R.P.M'\n",
        "conteos, bins, patches = plt.hist(consolidado['R.P.M'], bins=10)  # Ajusta el número de bins según sea necesario\n",
        "\n",
        "# Agregar etiquetas en la parte superior de cada barra\n",
        "for count, x in zip(conteos, bins):\n",
        "    plt.text(x + (bins[1] - bins[0]) / 2,  # Posición horizontal, centrada en cada barra\n",
        "             count,  # Posición vertical (altura del texto)\n",
        "             str(int(count)),  # Etiqueta de texto\n",
        "             ha='center', va='bottom', fontsize=10)  # Alineación y tamaño de fuente\n",
        "\n",
        "# Crear etiquetas personalizadas para los ticks del eje X utilizando los rangos\n",
        "bin_labels = [f'{int(bins[i])}-{int(bins[i+1])}' for i in range(len(bins)-1)]\n",
        "plt.xticks(ticks=bins[:-1] + (bins[1] - bins[0]) / 2, labels=bin_labels, rotation=45)\n",
        "# Configurar el color de fondo del gráfico\n",
        "\n",
        "# Configurar etiquetas y título del gráfico\n",
        "plt.xlabel('R.P.M')\n",
        "plt.ylabel('Frecuencia')\n",
        "plt.title('Distribución de R.P.M')\n",
        "# Mostrar el gráfico\n",
        "plt.show()\n"
      ],
      "metadata": {
        "id": "JBh-QT1Fqahm"
      },
      "execution_count": null,
      "outputs": []
    },
    {
      "cell_type": "markdown",
      "source": [
        "# ANALISIS DE POTENCIA"
      ],
      "metadata": {
        "id": "T7FUpZArl2W5"
      }
    },
    {
      "cell_type": "code",
      "source": [
        "# Agrupar por potencia y contar las ocurrencias\n",
        "conteos_potencia = consolidado['POTENCIA (HP)'].value_counts().sort_index()\n",
        "\n",
        "# Crear el gráfico de línea\n",
        "plt.plot(conteos_potencia.index, conteos_potencia.values)\n",
        "plt.xlabel('Potencia (HP)')\n",
        "plt.ylabel('Recuento')\n",
        "plt.title('Distribución de Potencia(0.25 - 400 HP)')\n",
        "plt.xlim(min(consolidado['POTENCIA (HP)']), 400)  # Establecer el rango del eje x de 0 a 400\n",
        "plt.show()\n"
      ],
      "metadata": {
        "id": "PT94PBNGk_-X"
      },
      "execution_count": null,
      "outputs": []
    },
    {
      "cell_type": "code",
      "source": [
        "# Crear el gráfico de línea\n",
        "plt.plot(conteos_potencia.index, conteos_potencia.values)\n",
        "plt.xlabel('Potencia (HP)')\n",
        "plt.ylabel('Recuento')\n",
        "plt.title('Distribución de Potencia')\n",
        "plt.xlim(400, max(consolidado['POTENCIA (HP)']))\n",
        "plt.show()"
      ],
      "metadata": {
        "id": "s9Mhrsp2mNkK"
      },
      "execution_count": null,
      "outputs": []
    },
    {
      "cell_type": "code",
      "source": [
        "# Agrupar por potencia y contar las ocurrencias\n",
        "conteos_potencia = consolidado['POTENCIA (HP)'].value_counts().sort_index()\n",
        "\n",
        "# Filtrar datos para el rango de 0 a 250\n",
        "conteos_potencia_filtrado = conteos_potencia[(conteos_potencia.index >= 0) & (conteos_potencia.index <= 250)]\n",
        "\n",
        "# Encontrar los picos locales\n",
        "peaks, _ = find_peaks(conteos_potencia_filtrado.values, height=20)  # Ajusta el valor de 'height' según sea necesario\n",
        "\n",
        "# Encontrar el pico global\n",
        "max_value = conteos_potencia_filtrado.max()\n",
        "max_index = conteos_potencia_filtrado.idxmax()\n",
        "\n",
        "# Crear el gráfico de línea\n",
        "plt.plot(conteos_potencia_filtrado.index, conteos_potencia_filtrado.values)\n",
        "plt.xlabel('Potencia (HP)')\n",
        "plt.ylabel('Recuento')\n",
        "plt.title('Distribución de Potencia (0.25 - 250 HP)')\n",
        "plt.xlim(0, 250)  # Establecer el rango del eje x de 0 a 250\n",
        "\n",
        "# Etiquetar los picos locales\n",
        "for peak in peaks:\n",
        "  plt.plot(conteos_potencia_filtrado.index[peak], conteos_potencia_filtrado.values[peak], 'ro')\n",
        "  plt.text(conteos_potencia_filtrado.index[peak], conteos_potencia_filtrado.values[peak],\n",
        "            f'{conteos_potencia_filtrado.values[peak]}', ha='center', va='bottom')\n",
        "\n",
        "# Etiquetar el pico global\n",
        "plt.plot(max_index, max_value, 'go')\n",
        "plt.text(max_index, max_value, f'{max_value}', ha='center', va='bottom')\n",
        "\n",
        "plt.show()\n"
      ],
      "metadata": {
        "id": "Yv6LZQAdRqLy",
        "collapsed": true
      },
      "execution_count": null,
      "outputs": []
    },
    {
      "cell_type": "code",
      "source": [
        "# Filtrar el DataFrame para incluir solo potencias entre 0.25 y 250\n",
        "filtered_df = consolidado[(consolidado['POTENCIA (HP)'] >= 0.25) & (consolidado['POTENCIA (HP)'] <= 250)]\n",
        "\n",
        "# Crear el histograma\n",
        "n, bins, patches = plt.hist(filtered_df['POTENCIA (HP)'], bins=10)  # Ajusta el número de bins según sea necesario\n",
        "\n",
        "# Agregar etiquetas en la parte superior de cada barra\n",
        "for count, x in zip(n, bins):\n",
        "    plt.text(x + (bins[1] - bins[0]) / 2,  # Posición horizontal, centrada en cada barra\n",
        "             count,  # Posición vertical (altura del texto)\n",
        "             str(int(count)),  # Etiqueta de texto\n",
        "             ha='center', va='bottom', fontsize=10)  # Alineación y tamaño de fuente\n",
        "\n",
        "# Crear etiquetas personalizadas para los ticks del eje X utilizando los rangos\n",
        "bin_labels = [f'{int(bins[i])}-{int(bins[i+1])}' for i in range(len(bins)-1)]\n",
        "plt.xticks(ticks=bins[:-1] + (bins[1] - bins[0]) / 2, labels=bin_labels, rotation=45)\n",
        "\n",
        "# Configurar etiquetas y título del gráfico\n",
        "plt.xlabel('Potencia (HP)')\n",
        "plt.ylabel('Frecuencia')\n",
        "plt.title('Distribución de Potencia (0.25-250 HP)')\n",
        "plt.show()\n"
      ],
      "metadata": {
        "id": "LEJ1_DbTX4ys"
      },
      "execution_count": null,
      "outputs": []
    }
  ]
}