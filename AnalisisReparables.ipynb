{
  "nbformat": 4,
  "nbformat_minor": 0,
  "metadata": {
    "colab": {
      "provenance": []
    },
    "kernelspec": {
      "name": "python3",
      "display_name": "Python 3"
    },
    "language_info": {
      "name": "python"
    }
  },
  "cells": [
    {
      "cell_type": "code",
      "source": [
        "import pandas as pd\n",
        "import matplotlib.pyplot as plt\n",
        "import numpy as np\n",
        "import seaborn as sns\n"
      ],
      "metadata": {
        "id": "zlMHexewRdjK"
      },
      "execution_count": null,
      "outputs": []
    },
    {
      "cell_type": "code",
      "execution_count": null,
      "metadata": {
        "id": "w489cPJuQwUs"
      },
      "outputs": [],
      "source": [
        "ruta_archivo = '/content/registros_reparables_motores.xlsx'\n",
        "\n",
        "# Cargar el archivo Excel en un DataFrame\n",
        "registros_reparables = pd.read_excel(ruta_archivo, sheet_name='Data filtrada')"
      ]
    },
    {
      "cell_type": "code",
      "source": [
        "print(registros_reparables)"
      ],
      "metadata": {
        "colab": {
          "base_uri": "https://localhost:8080/"
        },
        "id": "v4PxXFn2Rf_w",
        "outputId": "2433145b-5de5-4b92-dd32-57ce3c54ff94"
      },
      "execution_count": null,
      "outputs": [
        {
          "output_type": "stream",
          "name": "stdout",
          "text": [
            "        OT                     GERENCIA                    SUPERINTENDENCIA  \\\n",
            "0       63  Gerencia Tranques y Relaves  Superintendencia Recursos Hidricos   \n",
            "1       67  Gerencia Tranques y Relaves  Superintendencia Recursos Hidricos   \n",
            "2       68  Gerencia Tranques y Relaves  Superintendencia Recursos Hidricos   \n",
            "3       69  Gerencia Tranques y Relaves  Superintendencia Recursos Hidricos   \n",
            "4       75           Gerencia Fundición   Superintendencia de Mantenimiento   \n",
            "...    ...                          ...                                 ...   \n",
            "1133  2084           Gerencia Fundición   Superintendencia de Mantenimiento   \n",
            "1134  2086             Gerencia Plantas    Superintendencia Procesos Sewell   \n",
            "1135  2087             Gerencia Plantas    Superintendencia Procesos Sewell   \n",
            "1136  2088             Gerencia Plantas    Superintendencia Procesos Sewell   \n",
            "1137  2090             Gerencia Plantas   Superintendencia de Mantenimiento   \n",
            "\n",
            "                                     CONTACTO DE RETIRO  \\\n",
            "0        Muñoz Cabrera Victor Manuel (Codelco-Teniente)   \n",
            "1        Muñoz Cabrera Victor Manuel (Codelco-Teniente)   \n",
            "2        Muñoz Cabrera Victor Manuel (Codelco-Teniente)   \n",
            "3        Muñoz Cabrera Victor Manuel (Codelco-Teniente)   \n",
            "4         Céspedes Maturana Mauricio (Codelco-Teniente)   \n",
            "...                                                 ...   \n",
            "1133  Avilés Becerra Eduardo Antonio (Codelco-Teniente)   \n",
            "1134     Vargas Vargas Carlos Felipe (Codelco-Teniente)   \n",
            "1135     Vargas Vargas Carlos Felipe (Codelco-Teniente)   \n",
            "1136     Vargas Vargas Carlos Felipe (Codelco-Teniente)   \n",
            "1137     Jerez Montenegro Silvia (Contratista-Teniente)   \n",
            "\n",
            "                                         SOLICITADO POR  \\\n",
            "0        Muñoz Cabrera Victor Manuel (Codelco-Teniente)   \n",
            "1        Muñoz Cabrera Victor Manuel (Codelco-Teniente)   \n",
            "2        Muñoz Cabrera Victor Manuel (Codelco-Teniente)   \n",
            "3        Muñoz Cabrera Victor Manuel (Codelco-Teniente)   \n",
            "4              Perez Jeldez Fernando (Codelco-Teniente)   \n",
            "...                                                 ...   \n",
            "1133  Avilés Becerra Eduardo Antonio (Codelco-Teniente)   \n",
            "1134     Vargas Vargas Carlos Felipe (Codelco-Teniente)   \n",
            "1135     Vargas Vargas Carlos Felipe (Codelco-Teniente)   \n",
            "1136     Vargas Vargas Carlos Felipe (Codelco-Teniente)   \n",
            "1137   Tuñon Fernández Alex Mauricio (Codelco-Teniente)   \n",
            "\n",
            "                                           APROBADO POR FECHA REQUERIMIENTO  \\\n",
            "0      Valdivia Zuñiga Antonio Félix (Codelco-Teniente)          2020-07-13   \n",
            "1      Valdivia Zuñiga Antonio Félix (Codelco-Teniente)          2020-07-13   \n",
            "2      Valdivia Zuñiga Antonio Félix (Codelco-Teniente)          2020-07-13   \n",
            "3      Valdivia Zuñiga Antonio Félix (Codelco-Teniente)          2020-07-13   \n",
            "4     Bobadilla Burdiles Andrés Esteban  (Codelco-Te...          2020-07-28   \n",
            "...                                                 ...                 ...   \n",
            "1133   Maldonado Ampuero Pedro Pablo (Codelco-Teniente)          2024-11-19   \n",
            "1134  Cabezas Pizarro Mauricio Ernesto (Codelco-Teni...          2024-11-20   \n",
            "1135  Cabezas Pizarro Mauricio Ernesto (Codelco-Teni...          2024-11-20   \n",
            "1136  Cabezas Pizarro Mauricio Ernesto (Codelco-Teni...          2024-11-20   \n",
            "1137              Duran Guerra Paola (Codelco-Teniente)          2024-11-22   \n",
            "\n",
            "     FECHA RECEPCIONADO                              DESCRIPCION  \\\n",
            "0            03/09/2020              MOTOR 300HP 550V 1800RPM GE   \n",
            "1            03/09/2020              MOTOR 300HP 550V 1800RPM GE   \n",
            "2            17/08/2020              MOTOR 200HP 575V 1485RPM GE   \n",
            "3            17/08/2020             MOTOR 340HP 575V 1483RPM WEG   \n",
            "4            12/08/2020         MOTOR 7,5HP 575V 2975RPM SIEMENS   \n",
            "...                 ...                                      ...   \n",
            "1133          Sin datos  MOTOR 150HP 575V 4P 50Hz 447TVPA CC.SUP   \n",
            "1134          Sin datos    MOTOR 4HP 575V 8P 60Hz 132S-06 CC.SUP   \n",
            "1135          Sin datos     MOTOR 0,5HP 575V 8P 60Hz 71G6 CC.SUP   \n",
            "1136          Sin datos     MOTOR 0,5HP 575V 8P 60Hz 71G6 CC.SUP   \n",
            "1137          Sin datos     MOTOR 200HP 575V 4P 50Hz 315L CC.IZQ   \n",
            "\n",
            "                                        TIPO REPARACIÓN  ...  \\\n",
            "0     Mantención Correctiva con Recuperación del Bob...  ...   \n",
            "1     Mantención Correctiva (Rebobinado) de un Polo ...  ...   \n",
            "2           Mantención  preventiva motores de inducción  ...   \n",
            "3           Mantención  preventiva motores de inducción  ...   \n",
            "4     1.10  Mantención correctiva (rebobinado) de lo...  ...   \n",
            "...                                                 ...  ...   \n",
            "1133                                          Sin datos  ...   \n",
            "1134                                          Sin datos  ...   \n",
            "1135                                          Sin datos  ...   \n",
            "1136                                          Sin datos  ...   \n",
            "1137                                          Sin datos  ...   \n",
            "\n",
            "     GASTO REEMBOLSABLE     CECO            ENTREGADO FECHA ENTREGA FAENA  \\\n",
            "0             Sin datos   TS 779  Recepcionado con EP          01/01/2019   \n",
            "1             Sin datos   TM 779  Recepcionado con EP          01/01/2019   \n",
            "2             Sin datos   TM 779  Recepcionado con EP          01/01/2019   \n",
            "3             Sin datos  TS  779  Recepcionado con EP          01/01/2019   \n",
            "4             Sin datos    TF576  Recepcionado con EP          01/01/2019   \n",
            "...                 ...      ...                  ...                 ...   \n",
            "1133          Sin datos    TF548            Ingresada           Sin datos   \n",
            "1134          Sin datos    TM698            Ingresada           Sin datos   \n",
            "1135          Sin datos    TM698            Ingresada           Sin datos   \n",
            "1136          Sin datos    TM698            Ingresada           Sin datos   \n",
            "1137          Sin datos    TM585            Ingresada           Sin datos   \n",
            "\n",
            "       TIPO POTENCIA (HP) VOLTAJE (Volts) VELOCIDAD (RPM)    MARCA  \\\n",
            "0     MOTOR         300.0             550            1800       GE   \n",
            "1     MOTOR         300.0             550            1800       GE   \n",
            "2     MOTOR         200.0             575            1485       GE   \n",
            "3     MOTOR         340.0             575            1483      WEG   \n",
            "4     MOTOR           5.0             575            2975  SIEMENS   \n",
            "...     ...           ...             ...             ...      ...   \n",
            "1133  MOTOR         150.0             575            1500      NaN   \n",
            "1134  MOTOR           4.0             575             900      NaN   \n",
            "1135  MOTOR           0.5             575             900      NaN   \n",
            "1136  MOTOR           0.5             575             900      NaN   \n",
            "1137  MOTOR         200.0             575            1500      NaN   \n",
            "\n",
            "                                 DESCRIPCION2  \n",
            "0                 MOTOR 300HP 550V 1800RPM GE  \n",
            "1                 MOTOR 300HP 550V 1800RPM GE  \n",
            "2                 MOTOR 200HP 575V 1485RPM GE  \n",
            "3                MOTOR 340HP 575V 1483RPM WEG  \n",
            "4            MOTOR 7,5HP 575V 2975RPM SIEMENS  \n",
            "...                                       ...  \n",
            "1133  MOTOR 150HP 575V 4P 50Hz 447TVPA CC.SUP  \n",
            "1134    MOTOR 4HP 575V 8P 60Hz 132S-06 CC.SUP  \n",
            "1135     MOTOR 0,5HP 575V 8P 60Hz 71G6 CC.SUP  \n",
            "1136     MOTOR 0,5HP 575V 8P 60Hz 71G6 CC.SUP  \n",
            "1137     MOTOR 200HP 575V 4P 50Hz 315L CC.IZQ  \n",
            "\n",
            "[1138 rows x 24 columns]\n"
          ]
        }
      ]
    },
    {
      "cell_type": "code",
      "source": [
        "conteos = registros_reparables['VOLTAJE (Volts)'].value_counts()\n",
        "print(conteos)"
      ],
      "metadata": {
        "colab": {
          "base_uri": "https://localhost:8080/"
        },
        "id": "nkmdPDbGeMeY",
        "outputId": "0b061fb5-8179-403c-d62e-7dd76be2bb5a"
      },
      "execution_count": null,
      "outputs": [
        {
          "output_type": "stream",
          "name": "stdout",
          "text": [
            "VOLTAJE (Volts)\n",
            "575    965\n",
            "550    172\n",
            "578      1\n",
            "Name: count, dtype: int64\n"
          ]
        }
      ]
    },
    {
      "cell_type": "code",
      "source": [
        "len(registros_reparables)"
      ],
      "metadata": {
        "colab": {
          "base_uri": "https://localhost:8080/"
        },
        "id": "NRYAsyFfSmpF",
        "outputId": "c1e6b3ec-79e4-4aed-b190-d4e4d36f3c4f"
      },
      "execution_count": null,
      "outputs": [
        {
          "output_type": "execute_result",
          "data": {
            "text/plain": [
              "1138"
            ]
          },
          "metadata": {},
          "execution_count": 5
        }
      ]
    },
    {
      "cell_type": "code",
      "source": [
        "def determinar_polos_frecuencia(rpm):\n",
        "    rangos_60hz = {\n",
        "        3600: (2, 60),\n",
        "        1800: (4, 60),\n",
        "        1200: (6, 60),\n",
        "        900: (8, 60),\n",
        "        720: (10, 60),\n",
        "        600: (12, 60),\n",
        "        514: (14, 60),\n",
        "        450: (16, 60),\n",
        "        400: (18, 60),\n",
        "        360: (20, 60),\n",
        "        327: (22, 60),\n",
        "        300: (24, 60)\n",
        "    }\n",
        "    rangos_50hz = {\n",
        "        3000: (2, 50),\n",
        "        1500: (4, 50),\n",
        "        1000: (6, 50),\n",
        "        750: (8, 50),\n",
        "        600: (10, 50),\n",
        "        500: (12, 50),\n",
        "        428: (14, 50),\n",
        "        375: (16, 50),\n",
        "        333: (18, 50),\n",
        "        300: (20, 50)\n",
        "    }\n",
        "\n",
        "    def buscar_valor_mas_cercano(rpm, rangos):\n",
        "        # Buscar el valor más cercano superior\n",
        "        valor_mas_cercano = None\n",
        "        for valor_rpm in sorted(rangos.keys()):\n",
        "            if rpm <= valor_rpm:\n",
        "                valor_mas_cercano = valor_rpm\n",
        "                break\n",
        "        if valor_mas_cercano is not None:\n",
        "            return rangos[valor_mas_cercano]\n",
        "        return (None, None)\n",
        "\n",
        "    # Buscar el valor más cercano para 60 Hz\n",
        "    resultado_60hz = buscar_valor_mas_cercano(rpm, rangos_60hz)\n",
        "\n",
        "    # Buscar el valor más cercano para 50 Hz\n",
        "    resultado_50hz = buscar_valor_mas_cercano(rpm, rangos_50hz)\n",
        "\n",
        "    # Elegir el resultado que tenga la menor diferencia de RPM\n",
        "    if resultado_50hz[0] is not None and resultado_60hz[0] is not None:\n",
        "        diff_50hz = abs(rpm - next(val for val in sorted(rangos_50hz.keys()) if rpm <= val))\n",
        "        diff_60hz = abs(rpm - next(val for val in sorted(rangos_60hz.keys()) if rpm <= val))\n",
        "\n",
        "        if diff_50hz < diff_60hz:\n",
        "            return resultado_50hz\n",
        "        else:\n",
        "            return resultado_60hz\n",
        "    elif resultado_50hz[0] is not None:\n",
        "        return resultado_50hz\n",
        "    elif resultado_60hz[0] is not None:\n",
        "        return resultado_60hz\n",
        "    else:\n",
        "        return (None, None)"
      ],
      "metadata": {
        "id": "pOVa4yMOUTXB"
      },
      "execution_count": null,
      "outputs": []
    },
    {
      "cell_type": "code",
      "source": [
        "# Aplicar la función para determinar polos y frecuencia\n",
        "registros_reparables['Polos'], registros_reparables['Frecuencia'] = zip(*registros_reparables['VELOCIDAD (RPM)'].apply(determinar_polos_frecuencia))"
      ],
      "metadata": {
        "id": "QPQjTWPTUin2"
      },
      "execution_count": null,
      "outputs": []
    },
    {
      "cell_type": "code",
      "source": [
        "conteos = registros_reparables['Polos'].value_counts()\n",
        "print(conteos)"
      ],
      "metadata": {
        "colab": {
          "base_uri": "https://localhost:8080/"
        },
        "id": "JDCxSmBEVGTv",
        "outputId": "21f37ad0-72ca-4dea-907b-3e15e555b377"
      },
      "execution_count": null,
      "outputs": [
        {
          "output_type": "stream",
          "name": "stdout",
          "text": [
            "Polos\n",
            "4.0     813\n",
            "6.0     129\n",
            "2.0      67\n",
            "8.0      63\n",
            "14.0     42\n",
            "12.0      9\n",
            "18.0      5\n",
            "16.0      5\n",
            "10.0      1\n",
            "Name: count, dtype: int64\n"
          ]
        }
      ]
    },
    {
      "cell_type": "code",
      "source": [
        "# Crear bins para la potencia\n",
        "bins = [0, 50, 100, 150, 200, float('inf')]\n",
        "labels = ['0-50', '50-100', '100-150', '150-200', '>200 HP']\n",
        "\n",
        "# Usar .loc para evitar el SettingWithCopyWarning\n",
        "registros_reparables.loc[:, 'Rango_Potencia'] = pd.cut(registros_reparables['POTENCIA (HP)'], bins=bins, labels=labels, include_lowest=True)\n",
        "\n",
        "# Crear una tabla pivote para el mapa de calor, especificando observed=False\n",
        "heatmap_data = registros_reparables.pivot_table(index='Rango_Potencia', columns='Polos', values='POTENCIA (HP)', aggfunc='count', observed=False)\n",
        "\n",
        "# Crear el mapa de calor\n",
        "plt.figure(figsize=(10, 6))\n",
        "sns.heatmap(heatmap_data, annot=True, fmt=\".0f\", cmap=\"viridis\")\n",
        "plt.title('Mapa de Calor: Potencia vs Polos (BAJO VOLTAJE 2)')\n",
        "plt.xlabel('Polos')\n",
        "plt.ylabel('Rango de Potencia')\n",
        "plt.show()"
      ],
      "metadata": {
        "colab": {
          "base_uri": "https://localhost:8080/",
          "height": 564
        },
        "id": "4r4aGa6nLYL4",
        "outputId": "e770f2ba-fadf-45fa-caa2-c03aa7b1713f"
      },
      "execution_count": null,
      "outputs": [
        {
          "output_type": "display_data",
          "data": {
            "text/plain": [
              "<Figure size 1000x600 with 2 Axes>"
            ],
            "image/png": "[encoded data removed]"
          },
          "metadata": {}
        }
      ]
    },
    {
      "cell_type": "code",
      "source": [
        "registros_reparables2 = registros_reparables[\n",
        "    (registros_reparables['POTENCIA (HP)'] <= 100) &\n",
        "    (registros_reparables['Polos'] == 4)\n",
        "]"
      ],
      "metadata": {
        "id": "YdecCbdRVNbF"
      },
      "execution_count": null,
      "outputs": []
    },
    {
      "cell_type": "code",
      "source": [
        "len(registros_reparables2)"
      ],
      "metadata": {
        "colab": {
          "base_uri": "https://localhost:8080/"
        },
        "id": "paOjOzyXVlCR",
        "outputId": "5af0129e-ad62-461f-c1bc-909736b5dce4"
      },
      "execution_count": null,
      "outputs": [
        {
          "output_type": "execute_result",
          "data": {
            "text/plain": [
              "602"
            ]
          },
          "metadata": {},
          "execution_count": 11
        }
      ]
    },
    {
      "cell_type": "code",
      "source": [
        "# Contar valores faltantes en las columnas especificadas\n",
        "missing_values = registros_reparables2[['POTENCIA (HP)', 'VOLTAJE (Volts)', 'VELOCIDAD (RPM)', 'MARCA']].isnull().sum()\n",
        "missing_values"
      ],
      "metadata": {
        "colab": {
          "base_uri": "https://localhost:8080/",
          "height": 209
        },
        "id": "yldDS8msVuZO",
        "outputId": "6eb3201d-7789-4f2d-cefa-5c180a148a02"
      },
      "execution_count": null,
      "outputs": [
        {
          "output_type": "execute_result",
          "data": {
            "text/plain": [
              "POTENCIA (HP)        0\n",
              "VOLTAJE (Volts)      0\n",
              "VELOCIDAD (RPM)      0\n",
              "MARCA              111\n",
              "dtype: int64"
            ],
            "text/html": [
              "<div>\n",
              "<style scoped>\n",
              "    .dataframe tbody tr th:only-of-type {\n",
              "        vertical-align: middle;\n",
              "    }\n",
              "\n",
              "    .dataframe tbody tr th {\n",
              "        vertical-align: top;\n",
              "    }\n",
              "\n",
              "    .dataframe thead th {\n",
              "        text-align: right;\n",
              "    }\n",
              "</style>\n",
              "<table border=\"1\" class=\"dataframe\">\n",
              "  <thead>\n",
              "    <tr style=\"text-align: right;\">\n",
              "      <th></th>\n",
              "      <th>0</th>\n",
              "    </tr>\n",
              "  </thead>\n",
              "  <tbody>\n",
              "    <tr>\n",
              "      <th>POTENCIA (HP)</th>\n",
              "      <td>0</td>\n",
              "    </tr>\n",
              "    <tr>\n",
              "      <th>VOLTAJE (Volts)</th>\n",
              "      <td>0</td>\n",
              "    </tr>\n",
              "    <tr>\n",
              "      <th>VELOCIDAD (RPM)</th>\n",
              "      <td>0</td>\n",
              "    </tr>\n",
              "    <tr>\n",
              "      <th>MARCA</th>\n",
              "      <td>111</td>\n",
              "    </tr>\n",
              "  </tbody>\n",
              "</table>\n",
              "</div><br><label><b>dtype:</b> int64</label>"
            ]
          },
          "metadata": {},
          "execution_count": 12
        }
      ]
    },
    {
      "cell_type": "code",
      "source": [
        "registros_reparables['FECHA ENTREGA FAENA'] = pd.to_datetime(registros_reparables['FECHA ENTREGA FAENA'], errors='coerce')\n",
        "registros_reparables['FECHA REQUERIMIENTO'] = pd.to_datetime(registros_reparables['FECHA REQUERIMIENTO'], errors='coerce')\n",
        "registros_reparables['FECHA RECEPCIONADO'] = pd.to_datetime(registros_reparables['FECHA RECEPCIONADO'], errors='coerce')\n"
      ],
      "metadata": {
        "id": "FPLo6oJ7Fce_"
      },
      "execution_count": null,
      "outputs": []
    },
    {
      "cell_type": "code",
      "source": [
        "\n",
        "nat_counts = registros_reparables[['FECHA ENTREGA FAENA', 'FECHA REQUERIMIENTO', 'FECHA RECEPCIONADO']].isna().sum()\n",
        "nat_counts"
      ],
      "metadata": {
        "colab": {
          "base_uri": "https://localhost:8080/",
          "height": 178
        },
        "id": "3DeTNEdMJa2_",
        "outputId": "16fac835-2163-4a6b-ebb2-c0779692a40d"
      },
      "execution_count": null,
      "outputs": [
        {
          "output_type": "execute_result",
          "data": {
            "text/plain": [
              "FECHA ENTREGA FAENA    780\n",
              "FECHA REQUERIMIENTO      0\n",
              "FECHA RECEPCIONADO     719\n",
              "dtype: int64"
            ],
            "text/html": [
              "<div>\n",
              "<style scoped>\n",
              "    .dataframe tbody tr th:only-of-type {\n",
              "        vertical-align: middle;\n",
              "    }\n",
              "\n",
              "    .dataframe tbody tr th {\n",
              "        vertical-align: top;\n",
              "    }\n",
              "\n",
              "    .dataframe thead th {\n",
              "        text-align: right;\n",
              "    }\n",
              "</style>\n",
              "<table border=\"1\" class=\"dataframe\">\n",
              "  <thead>\n",
              "    <tr style=\"text-align: right;\">\n",
              "      <th></th>\n",
              "      <th>0</th>\n",
              "    </tr>\n",
              "  </thead>\n",
              "  <tbody>\n",
              "    <tr>\n",
              "      <th>FECHA ENTREGA FAENA</th>\n",
              "      <td>780</td>\n",
              "    </tr>\n",
              "    <tr>\n",
              "      <th>FECHA REQUERIMIENTO</th>\n",
              "      <td>0</td>\n",
              "    </tr>\n",
              "    <tr>\n",
              "      <th>FECHA RECEPCIONADO</th>\n",
              "      <td>719</td>\n",
              "    </tr>\n",
              "  </tbody>\n",
              "</table>\n",
              "</div><br><label><b>dtype:</b> int64</label>"
            ]
          },
          "metadata": {},
          "execution_count": 14
        }
      ]
    },
    {
      "cell_type": "code",
      "source": [
        "# Cantidad de registros con \"Sin datos\" en la columna 'TIPO REPARACIÓN'\n",
        "sin_datos_count = registros_reparables[registros_reparables['TIPO REPARACIÓN'] == 'Sin datos']['TIPO REPARACIÓN'].count()\n",
        "\n",
        "print(f'Cantidad de registros con TIPO REPARACIÓN \"Sin datos\": {sin_datos_count}')\n",
        "# Cantidad de registros vacíos en la columna 'TIPO REPARACIÓN'\n",
        "empty_tipo_reparacion = registros_reparables['TIPO REPARACIÓN'].isnull().sum()\n",
        "print(f\"Cantidad de registros vacíos en 'TIPO REPARACIÓN': {empty_tipo_reparacion}\")\n"
      ],
      "metadata": {
        "colab": {
          "base_uri": "https://localhost:8080/"
        },
        "id": "Ehzd10wgYDEF",
        "outputId": "9b7953a3-c516-4cfe-9f40-a3118779afa7"
      },
      "execution_count": null,
      "outputs": [
        {
          "output_type": "stream",
          "name": "stdout",
          "text": [
            "Cantidad de registros con TIPO REPARACIÓN \"Sin datos\": 87\n",
            "Cantidad de registros vacíos en 'TIPO REPARACIÓN': 0\n"
          ]
        }
      ]
    },
    {
      "cell_type": "code",
      "source": [
        "# prompt: ESTADISTICAS DE COLUMNAS 'POTENCIA (HP)', 'VOLTAJE (Volts)', 'VELOCIDAD (RPM)', 'MARCA'DE REGISTROS_REPARABLES\n",
        "\n",
        "# Mostrar estadísticas descriptivas para las columnas especificadas\n",
        "estadisticas = registros_reparables2[['POTENCIA (HP)', 'VOLTAJE (Volts)', 'VELOCIDAD (RPM)']].describe()\n",
        "print(estadisticas)\n",
        "\n",
        "# Mostrar la frecuencia de cada valor único en la columna 'MARCA'\n",
        "frecuencia_marca = registros_reparables2['MARCA'].value_counts()\n",
        "frecuencia_marca"
      ],
      "metadata": {
        "colab": {
          "base_uri": "https://localhost:8080/",
          "height": 1000
        },
        "id": "yjzUYk9ZV_60",
        "outputId": "219688cf-c0ea-44f0-d4c1-3b7aba22ee81"
      },
      "execution_count": null,
      "outputs": [
        {
          "output_type": "stream",
          "name": "stdout",
          "text": [
            "       POTENCIA (HP)  VOLTAJE (Volts)  VELOCIDAD (RPM)\n",
            "count     602.000000       602.000000       602.000000\n",
            "mean       45.029236       572.549834      1492.380399\n",
            "std        36.220915         7.439272        87.071718\n",
            "min         0.100000       550.000000      1310.000000\n",
            "25%        10.000000       575.000000      1460.000000\n",
            "50%        30.000000       575.000000      1478.000000\n",
            "75%        75.000000       575.000000      1485.000000\n",
            "max       100.000000       575.000000      1800.000000\n"
          ]
        },
        {
          "output_type": "execute_result",
          "data": {
            "text/plain": [
              "MARCA\n",
              "WEG             168\n",
              "RELIANCE         94\n",
              "ABB              58\n",
              "SIEMENS          28\n",
              "EURODRIVE        21\n",
              "BALDOR           20\n",
              "ELECTRICAL       20\n",
              "GE               13\n",
              "GEVISA           10\n",
              "SOMER             9\n",
              "WESTINGHOUSE      9\n",
              "ITALVIBRAS        8\n",
              "MOTORS            5\n",
              "MOTOR             4\n",
              "STROMBERG         3\n",
              "CHALMERS          3\n",
              "GAMAK             3\n",
              "GMHB              3\n",
              "MARCA             3\n",
              "CHALMER           2\n",
              "EFFIC.            2\n",
              "ELECTROMOTOR      2\n",
              "BBC               1\n",
              "ELECTRIC          1\n",
              "|                 1\n",
              "Name: count, dtype: int64"
            ],
            "text/html": [
              "<div>\n",
              "<style scoped>\n",
              "    .dataframe tbody tr th:only-of-type {\n",
              "        vertical-align: middle;\n",
              "    }\n",
              "\n",
              "    .dataframe tbody tr th {\n",
              "        vertical-align: top;\n",
              "    }\n",
              "\n",
              "    .dataframe thead th {\n",
              "        text-align: right;\n",
              "    }\n",
              "</style>\n",
              "<table border=\"1\" class=\"dataframe\">\n",
              "  <thead>\n",
              "    <tr style=\"text-align: right;\">\n",
              "      <th></th>\n",
              "      <th>count</th>\n",
              "    </tr>\n",
              "    <tr>\n",
              "      <th>MARCA</th>\n",
              "      <th></th>\n",
              "    </tr>\n",
              "  </thead>\n",
              "  <tbody>\n",
              "    <tr>\n",
              "      <th>WEG</th>\n",
              "      <td>168</td>\n",
              "    </tr>\n",
              "    <tr>\n",
              "      <th>RELIANCE</th>\n",
              "      <td>94</td>\n",
              "    </tr>\n",
              "    <tr>\n",
              "      <th>ABB</th>\n",
              "      <td>58</td>\n",
              "    </tr>\n",
              "    <tr>\n",
              "      <th>SIEMENS</th>\n",
              "      <td>28</td>\n",
              "    </tr>\n",
              "    <tr>\n",
              "      <th>EURODRIVE</th>\n",
              "      <td>21</td>\n",
              "    </tr>\n",
              "    <tr>\n",
              "      <th>BALDOR</th>\n",
              "      <td>20</td>\n",
              "    </tr>\n",
              "    <tr>\n",
              "      <th>ELECTRICAL</th>\n",
              "      <td>20</td>\n",
              "    </tr>\n",
              "    <tr>\n",
              "      <th>GE</th>\n",
              "      <td>13</td>\n",
              "    </tr>\n",
              "    <tr>\n",
              "      <th>GEVISA</th>\n",
              "      <td>10</td>\n",
              "    </tr>\n",
              "    <tr>\n",
              "      <th>SOMER</th>\n",
              "      <td>9</td>\n",
              "    </tr>\n",
              "    <tr>\n",
              "      <th>WESTINGHOUSE</th>\n",
              "      <td>9</td>\n",
              "    </tr>\n",
              "    <tr>\n",
              "      <th>ITALVIBRAS</th>\n",
              "      <td>8</td>\n",
              "    </tr>\n",
              "    <tr>\n",
              "      <th>MOTORS</th>\n",
              "      <td>5</td>\n",
              "    </tr>\n",
              "    <tr>\n",
              "      <th>MOTOR</th>\n",
              "      <td>4</td>\n",
              "    </tr>\n",
              "    <tr>\n",
              "      <th>STROMBERG</th>\n",
              "      <td>3</td>\n",
              "    </tr>\n",
              "    <tr>\n",
              "      <th>CHALMERS</th>\n",
              "      <td>3</td>\n",
              "    </tr>\n",
              "    <tr>\n",
              "      <th>GAMAK</th>\n",
              "      <td>3</td>\n",
              "    </tr>\n",
              "    <tr>\n",
              "      <th>GMHB</th>\n",
              "      <td>3</td>\n",
              "    </tr>\n",
              "    <tr>\n",
              "      <th>MARCA</th>\n",
              "      <td>3</td>\n",
              "    </tr>\n",
              "    <tr>\n",
              "      <th>CHALMER</th>\n",
              "      <td>2</td>\n",
              "    </tr>\n",
              "    <tr>\n",
              "      <th>EFFIC.</th>\n",
              "      <td>2</td>\n",
              "    </tr>\n",
              "    <tr>\n",
              "      <th>ELECTROMOTOR</th>\n",
              "      <td>2</td>\n",
              "    </tr>\n",
              "    <tr>\n",
              "      <th>BBC</th>\n",
              "      <td>1</td>\n",
              "    </tr>\n",
              "    <tr>\n",
              "      <th>ELECTRIC</th>\n",
              "      <td>1</td>\n",
              "    </tr>\n",
              "    <tr>\n",
              "      <th>|</th>\n",
              "      <td>1</td>\n",
              "    </tr>\n",
              "  </tbody>\n",
              "</table>\n",
              "</div><br><label><b>dtype:</b> int64</label>"
            ]
          },
          "metadata": {},
          "execution_count": 17
        }
      ]
    },
    {
      "cell_type": "code",
      "source": [
        "# Contar la cantidad de veces que aparece cada valor en la columna \"TIPO REPARACIÓN\"\n",
        "tipo_reparacion_counts = registros_reparables['TIPO REPARACIÓN'].value_counts()\n",
        "\n",
        "tipo_reparacion_counts"
      ],
      "metadata": {
        "colab": {
          "base_uri": "https://localhost:8080/",
          "height": 489
        },
        "id": "-GFLvz1iG8ou",
        "outputId": "f2ffedc0-e35a-43f1-ddb7-fffb5edc9388"
      },
      "execution_count": null,
      "outputs": [
        {
          "output_type": "execute_result",
          "data": {
            "text/plain": [
              "TIPO REPARACIÓN\n",
              "Sin datos                                                                                                  87\n",
              "2   Mantención correctiva motores jaula ardilla clase de aislación H                                       85\n",
              "83   Mantención  preventiva motores jaula ardilla                                                          60\n",
              "65   Mantención correctiva motores jaula ardilla clase de aislación H                                      51\n",
              "122   Mantención  preventiva motores jaula ardilla                                                         41\n",
              "                                                                                                           ..\n",
              "1209 Mantención  preventiva motores de inducción 750-1000 RPM                                               1\n",
              "1.1 Mantención  preventiva motores de inducción 750-1000 RPM                                                1\n",
              "1788 Encamisado de Tapa de Alojamiento de Rodamientos                                                       1\n",
              "1.87 Mantención correctiva (rebobinado) de los motores de Inducción clase de aislación F- 1500-3000 RPM     1\n",
              "48   Mantención correctiva motores jaula ardilla clase de aislación VDF                                     1\n",
              "Name: count, Length: 183, dtype: int64"
            ],
            "text/html": [
              "<div>\n",
              "<style scoped>\n",
              "    .dataframe tbody tr th:only-of-type {\n",
              "        vertical-align: middle;\n",
              "    }\n",
              "\n",
              "    .dataframe tbody tr th {\n",
              "        vertical-align: top;\n",
              "    }\n",
              "\n",
              "    .dataframe thead th {\n",
              "        text-align: right;\n",
              "    }\n",
              "</style>\n",
              "<table border=\"1\" class=\"dataframe\">\n",
              "  <thead>\n",
              "    <tr style=\"text-align: right;\">\n",
              "      <th></th>\n",
              "      <th>count</th>\n",
              "    </tr>\n",
              "    <tr>\n",
              "      <th>TIPO REPARACIÓN</th>\n",
              "      <th></th>\n",
              "    </tr>\n",
              "  </thead>\n",
              "  <tbody>\n",
              "    <tr>\n",
              "      <th>Sin datos</th>\n",
              "      <td>87</td>\n",
              "    </tr>\n",
              "    <tr>\n",
              "      <th>2   Mantención correctiva motores jaula ardilla clase de aislación H</th>\n",
              "      <td>85</td>\n",
              "    </tr>\n",
              "    <tr>\n",
              "      <th>83   Mantención  preventiva motores jaula ardilla</th>\n",
              "      <td>60</td>\n",
              "    </tr>\n",
              "    <tr>\n",
              "      <th>65   Mantención correctiva motores jaula ardilla clase de aislación H</th>\n",
              "      <td>51</td>\n",
              "    </tr>\n",
              "    <tr>\n",
              "      <th>122   Mantención  preventiva motores jaula ardilla</th>\n",
              "      <td>41</td>\n",
              "    </tr>\n",
              "    <tr>\n",
              "      <th>...</th>\n",
              "      <td>...</td>\n",
              "    </tr>\n",
              "    <tr>\n",
              "      <th>1209 Mantención  preventiva motores de inducción 750-1000 RPM</th>\n",
              "      <td>1</td>\n",
              "    </tr>\n",
              "    <tr>\n",
              "      <th>1.1 Mantención  preventiva motores de inducción 750-1000 RPM</th>\n",
              "      <td>1</td>\n",
              "    </tr>\n",
              "    <tr>\n",
              "      <th>1788 Encamisado de Tapa de Alojamiento de Rodamientos</th>\n",
              "      <td>1</td>\n",
              "    </tr>\n",
              "    <tr>\n",
              "      <th>1.87 Mantención correctiva (rebobinado) de los motores de Inducción clase de aislación F- 1500-3000 RPM</th>\n",
              "      <td>1</td>\n",
              "    </tr>\n",
              "    <tr>\n",
              "      <th>48   Mantención correctiva motores jaula ardilla clase de aislación VDF</th>\n",
              "      <td>1</td>\n",
              "    </tr>\n",
              "  </tbody>\n",
              "</table>\n",
              "<p>183 rows × 1 columns</p>\n",
              "</div><br><label><b>dtype:</b> int64</label>"
            ]
          },
          "metadata": {},
          "execution_count": 18
        }
      ]
    },
    {
      "cell_type": "code",
      "source": [
        "\n",
        "# Gráfico de distribución de Potencia (HP) con cantidades en las barras\n",
        "plt.figure(figsize=(10, 6))\n",
        "sns.histplot(registros_reparables['POTENCIA (HP)'], kde=False, bins=20)  # Ajusta el número de bins según sea necesario\n",
        "plt.xlabel('Potencia (HP)')\n",
        "plt.ylabel('Cantidad de motores')\n",
        "plt.title('Distribución de Potencia de Motores')\n",
        "\n",
        "# Agregar las cantidades encima de las barras\n",
        "for p in plt.gca().patches:\n",
        "    plt.gca().annotate(f'{int(p.get_height())}', (p.get_x() + p.get_width() / 2., p.get_height()),\n",
        "                       ha='center', va='center', xytext=(0, 10), textcoords='offset points')\n",
        "plt.show()\n",
        "\n",
        "# Gráfico de distribución de RPM con cantidades en las barras\n",
        "plt.figure(figsize=(10, 6))\n",
        "sns.histplot(registros_reparables['VELOCIDAD (RPM)'], kde=False, bins=20)  # Ajusta el número de bins según sea necesario\n",
        "plt.xlabel('Velocidad (RPM)')\n",
        "plt.ylabel('Cantidad de motores')\n",
        "plt.title('Distribución de RPM de Motores')\n",
        "\n",
        "# Agregar las cantidades encima de las barras\n",
        "for p in plt.gca().patches:\n",
        "    plt.gca().annotate(f'{int(p.get_height())}', (p.get_x() + p.get_width() / 2., p.get_height()),\n",
        "                       ha='center', va='center', xytext=(0, 10), textcoords='offset points')\n",
        "plt.show()"
      ],
      "metadata": {
        "colab": {
          "base_uri": "https://localhost:8080/",
          "height": 1000
        },
        "id": "SHSboe6lZGAk",
        "outputId": "d5332a7a-6099-41d2-8fad-24e8d679e956"
      },
      "execution_count": null,
      "outputs": [
        {
          "output_type": "display_data",
          "data": {
            "text/plain": [
              "<Figure size 1000x600 with 1 Axes>"
            ],
            "image/png": "[encoded data removed]"
          },
          "metadata": {}
        },
        {
          "output_type": "display_data",
          "data": {
            "text/plain": [
              "<Figure size 1000x600 with 1 Axes>"
            ],
            "image/png": "[encoded data removed]"
          },
          "metadata": {}
        }
      ]
    },
    {
      "cell_type": "code",
      "source": [
        "registros_reparables2['Potencia_RPM'] = (\n",
        "    'MOTOR DE ' + registros_reparables['POTENCIA (HP)'].astype(str) + 'HP, ' +\n",
        "    registros_reparables['VELOCIDAD (RPM)'].astype(str) + 'RPM ' + 'y de ' +\n",
        "    registros_reparables['VOLTAJE (Volts)'].astype(str) + 'V'\n",
        ")\n"
      ],
      "metadata": {
        "id": "MI0_5KDYJ7Pu",
        "colab": {
          "base_uri": "https://localhost:8080/"
        },
        "outputId": "2dd05b6f-bf23-4b5c-fc86-925a1ed949d2"
      },
      "execution_count": null,
      "outputs": [
        {
          "output_type": "stream",
          "name": "stderr",
          "text": [
            "<ipython-input-27-2e4fcedf6e8a>:1: SettingWithCopyWarning: \n",
            "A value is trying to be set on a copy of a slice from a DataFrame.\n",
            "Try using .loc[row_indexer,col_indexer] = value instead\n",
            "\n",
            "See the caveats in the documentation: https://pandas.pydata.org/pandas-docs/stable/user_guide/indexing.html#returning-a-view-versus-a-copy\n",
            "  registros_reparables2['Potencia_RPM'] = (\n"
          ]
        }
      ]
    },
    {
      "cell_type": "code",
      "source": [
        "\n",
        "# Contar la frecuencia de cada valor único en la columna 'Potencia_RPM'\n",
        "conteo_potencia_rpm = registros_reparables2['Potencia_RPM'].value_counts()\n",
        "conteo_potencia_rpm"
      ],
      "metadata": {
        "colab": {
          "base_uri": "https://localhost:8080/",
          "height": 489
        },
        "id": "7G4WE0baW2aU",
        "outputId": "2a541353-0a4b-4601-c533-f0f6ee4d40c1"
      },
      "execution_count": null,
      "outputs": [
        {
          "output_type": "execute_result",
          "data": {
            "text/plain": [
              "Potencia_RPM\n",
              "MOTOR DE 100.0HP, 1485RPM y de 575V    54\n",
              "MOTOR DE 100.0HP, 1480RPM y de 575V    32\n",
              "MOTOR DE 75.0HP, 1470RPM y de 575V     28\n",
              "MOTOR DE 15.0HP, 1450RPM y de 575V     22\n",
              "MOTOR DE 100.0HP, 1500RPM y de 575V    22\n",
              "                                       ..\n",
              "MOTOR DE 60.0HP, 1478RPM y de 575V      1\n",
              "MOTOR DE 15.0HP, 1475RPM y de 575V      1\n",
              "MOTOR DE 15.0HP, 1465RPM y de 575V      1\n",
              "MOTOR DE 0.1HP, 1500RPM y de 575V       1\n",
              "MOTOR DE 15.0HP, 1765RPM y de 575V      1\n",
              "Name: count, Length: 89, dtype: int64"
            ],
            "text/html": [
              "<div>\n",
              "<style scoped>\n",
              "    .dataframe tbody tr th:only-of-type {\n",
              "        vertical-align: middle;\n",
              "    }\n",
              "\n",
              "    .dataframe tbody tr th {\n",
              "        vertical-align: top;\n",
              "    }\n",
              "\n",
              "    .dataframe thead th {\n",
              "        text-align: right;\n",
              "    }\n",
              "</style>\n",
              "<table border=\"1\" class=\"dataframe\">\n",
              "  <thead>\n",
              "    <tr style=\"text-align: right;\">\n",
              "      <th></th>\n",
              "      <th>count</th>\n",
              "    </tr>\n",
              "    <tr>\n",
              "      <th>Potencia_RPM</th>\n",
              "      <th></th>\n",
              "    </tr>\n",
              "  </thead>\n",
              "  <tbody>\n",
              "    <tr>\n",
              "      <th>MOTOR DE 100.0HP, 1485RPM y de 575V</th>\n",
              "      <td>54</td>\n",
              "    </tr>\n",
              "    <tr>\n",
              "      <th>MOTOR DE 100.0HP, 1480RPM y de 575V</th>\n",
              "      <td>32</td>\n",
              "    </tr>\n",
              "    <tr>\n",
              "      <th>MOTOR DE 75.0HP, 1470RPM y de 575V</th>\n",
              "      <td>28</td>\n",
              "    </tr>\n",
              "    <tr>\n",
              "      <th>MOTOR DE 15.0HP, 1450RPM y de 575V</th>\n",
              "      <td>22</td>\n",
              "    </tr>\n",
              "    <tr>\n",
              "      <th>MOTOR DE 100.0HP, 1500RPM y de 575V</th>\n",
              "      <td>22</td>\n",
              "    </tr>\n",
              "    <tr>\n",
              "      <th>...</th>\n",
              "      <td>...</td>\n",
              "    </tr>\n",
              "    <tr>\n",
              "      <th>MOTOR DE 60.0HP, 1478RPM y de 575V</th>\n",
              "      <td>1</td>\n",
              "    </tr>\n",
              "    <tr>\n",
              "      <th>MOTOR DE 15.0HP, 1475RPM y de 575V</th>\n",
              "      <td>1</td>\n",
              "    </tr>\n",
              "    <tr>\n",
              "      <th>MOTOR DE 15.0HP, 1465RPM y de 575V</th>\n",
              "      <td>1</td>\n",
              "    </tr>\n",
              "    <tr>\n",
              "      <th>MOTOR DE 0.1HP, 1500RPM y de 575V</th>\n",
              "      <td>1</td>\n",
              "    </tr>\n",
              "    <tr>\n",
              "      <th>MOTOR DE 15.0HP, 1765RPM y de 575V</th>\n",
              "      <td>1</td>\n",
              "    </tr>\n",
              "  </tbody>\n",
              "</table>\n",
              "<p>89 rows × 1 columns</p>\n",
              "</div><br><label><b>dtype:</b> int64</label>"
            ]
          },
          "metadata": {},
          "execution_count": 28
        }
      ]
    },
    {
      "cell_type": "code",
      "source": [
        "print(registros_reparables2)"
      ],
      "metadata": {
        "id": "ZK1glOv--CYT",
        "outputId": "11f5fcac-625c-4fc6-975a-1e07db1b4ff4",
        "colab": {
          "base_uri": "https://localhost:8080/"
        }
      },
      "execution_count": null,
      "outputs": [
        {
          "output_type": "stream",
          "name": "stdout",
          "text": [
            "        OT            GERENCIA                   SUPERINTENDENCIA  \\\n",
            "6       84  Gerencia Fundición  Superintendencia de Mantenimiento   \n",
            "7       85  Gerencia Fundición  Superintendencia de Mantenimiento   \n",
            "8       86  Gerencia Fundición  Superintendencia de Mantenimiento   \n",
            "9       87  Gerencia Fundición  Superintendencia de Mantenimiento   \n",
            "18     101  Gerencia Fundición  Superintendencia de Mantenimiento   \n",
            "...    ...                 ...                                ...   \n",
            "1127  2078    Gerencia Plantas  Superintendencia de Mantenimiento   \n",
            "1128  2079    Gerencia Plantas  Superintendencia de Mantenimiento   \n",
            "1130  2081    Gerencia Plantas  Superintendencia de Mantenimiento   \n",
            "1131  2082    Gerencia Plantas  Superintendencia de Mantenimiento   \n",
            "1132  2083    Gerencia Plantas  Superintendencia de Mantenimiento   \n",
            "\n",
            "                                    CONTACTO DE RETIRO  \\\n",
            "6     Maldonado Ampuero Pedro Pablo (Codelco-Teniente)   \n",
            "7     Maldonado Ampuero Pedro Pablo (Codelco-Teniente)   \n",
            "8     Maldonado Ampuero Pedro Pablo (Codelco-Teniente)   \n",
            "9     Maldonado Ampuero Pedro Pablo (Codelco-Teniente)   \n",
            "18      Opazo Morales Víctor Manuel (Codelco-Teniente)   \n",
            "...                                                ...   \n",
            "1127              Rojas Valdes Raul (Codelco-Teniente)   \n",
            "1128              Rojas Valdes Raul (Codelco-Teniente)   \n",
            "1130     Rodríguez Hidalgo Humberto (Codelco-Teniente)   \n",
            "1131     Rodríguez Hidalgo Humberto (Codelco-Teniente)   \n",
            "1132     Rodríguez Hidalgo Humberto (Codelco-Teniente)   \n",
            "\n",
            "                                        SOLICITADO POR  \\\n",
            "6     Maldonado Ampuero Pedro Pablo (Codelco-Teniente)   \n",
            "7     Maldonado Ampuero Pedro Pablo (Codelco-Teniente)   \n",
            "8     Maldonado Ampuero Pedro Pablo (Codelco-Teniente)   \n",
            "9     Maldonado Ampuero Pedro Pablo (Codelco-Teniente)   \n",
            "18      Opazo Morales Víctor Manuel (Codelco-Teniente)   \n",
            "...                                                ...   \n",
            "1127  Tuñon Fernández Alex Mauricio (Codelco-Teniente)   \n",
            "1128  Tuñon Fernández Alex Mauricio (Codelco-Teniente)   \n",
            "1130     Rodríguez Hidalgo Humberto (Codelco-Teniente)   \n",
            "1131     Rodríguez Hidalgo Humberto (Codelco-Teniente)   \n",
            "1132     Rodríguez Hidalgo Humberto (Codelco-Teniente)   \n",
            "\n",
            "                                          APROBADO POR FECHA REQUERIMIENTO  \\\n",
            "6               Castro Sánchez Omar (Codelco-Teniente)          2020-08-03   \n",
            "7               Castro Sánchez Omar (Codelco-Teniente)          2020-08-03   \n",
            "8               Castro Sánchez Omar (Codelco-Teniente)          2020-08-03   \n",
            "9               Castro Sánchez Omar (Codelco-Teniente)          2020-08-03   \n",
            "18      Opazo Morales Víctor Manuel (Codelco-Teniente)          2020-09-04   \n",
            "...                                                ...                 ...   \n",
            "1127             Duran Guerra Paola (Codelco-Teniente)          2024-11-13   \n",
            "1128             Duran Guerra Paola (Codelco-Teniente)          2024-11-13   \n",
            "1130  Elgueta Olea Alberto Segundo  (Codelco-Teniente)          2024-11-18   \n",
            "1131  Elgueta Olea Alberto Segundo  (Codelco-Teniente)          2024-11-18   \n",
            "1132  Elgueta Olea Alberto Segundo  (Codelco-Teniente)          2024-11-18   \n",
            "\n",
            "     FECHA RECEPCIONADO                            DESCRIPCION  \\\n",
            "6            06/10/2020           MOTOR 7,5HP 1460RPM 575V WEG   \n",
            "7            04/09/2020           MOTOR 7,5HP 1460RPM 575V WEG   \n",
            "8            04/09/2020            MOTOR 25HP 575V 1480RPM WEG   \n",
            "9            08/09/2020        MOTOR 25HP 575V 1350RPM SIEMENS   \n",
            "18           27/10/2020            MOTOR 10HP 575V 1480RPM WEG   \n",
            "...                 ...                                    ...   \n",
            "1127          Sin datos   MOTOR 60HP 575V 4P 50Hz 3645T CC.IZQ   \n",
            "1128          Sin datos   MOTOR 60HP 575V 4P 50Hz 250SM CC.IZQ   \n",
            "1130          Sin datos  MOTOR 75HP 575V 4P 60Hz 404/5T CC.IZQ   \n",
            "1131          Sin datos  MOTOR 10HP 575V 4P 50Hz 2135TC CC.IZQ   \n",
            "1132          Sin datos   MOTOR 50HP 575V 4P 50Hz 225SM CC.IZQ   \n",
            "\n",
            "                                        TIPO REPARACIÓN  ...   TIPO  \\\n",
            "6     1.7  Mantención correctiva (rebobinado) de los...  ...  MOTOR   \n",
            "7     1.7  Mantención correctiva (rebobinado) de los...  ...  MOTOR   \n",
            "8     1.33  Mantención correctiva (rebobinado) de lo...  ...  MOTOR   \n",
            "9     1.7  Mantención correctiva (rebobinado) de los...  ...  MOTOR   \n",
            "18    1.7  Mantención correctiva (rebobinado) de los...  ...  MOTOR   \n",
            "...                                                 ...  ...    ...   \n",
            "1127                                          Sin datos  ...  MOTOR   \n",
            "1128                                          Sin datos  ...  MOTOR   \n",
            "1130                                          Sin datos  ...  MOTOR   \n",
            "1131                                          Sin datos  ...  MOTOR   \n",
            "1132                                          Sin datos  ...  MOTOR   \n",
            "\n",
            "     POTENCIA (HP) VOLTAJE (Volts) VELOCIDAD (RPM)    MARCA  \\\n",
            "6              5.0             575            1460      WEG   \n",
            "7              5.0             575            1460      WEG   \n",
            "8             25.0             575            1480      WEG   \n",
            "9             25.0             575            1350  SIEMENS   \n",
            "18            10.0             575            1480      WEG   \n",
            "...            ...             ...             ...      ...   \n",
            "1127          60.0             575            1500      NaN   \n",
            "1128          60.0             575            1500      NaN   \n",
            "1130          75.0             575            1800      NaN   \n",
            "1131          10.0             575            1500      NaN   \n",
            "1132          50.0             575            1500      NaN   \n",
            "\n",
            "                               DESCRIPCION2 Polos Frecuencia Rango_Potencia  \\\n",
            "6              MOTOR 7,5HP 1460RPM 575V WEG   4.0       50.0           0-50   \n",
            "7              MOTOR 7,5HP 1460RPM 575V WEG   4.0       50.0           0-50   \n",
            "8               MOTOR 25HP 575V 1480RPM WEG   4.0       50.0           0-50   \n",
            "9           MOTOR 25HP 575V 1350RPM SIEMENS   4.0       50.0           0-50   \n",
            "18              MOTOR 10HP 575V 1480RPM WEG   4.0       50.0           0-50   \n",
            "...                                     ...   ...        ...            ...   \n",
            "1127   MOTOR 60HP 575V 4P 50Hz 3645T CC.IZQ   4.0       50.0         50-100   \n",
            "1128   MOTOR 60HP 575V 4P 50Hz 250SM CC.IZQ   4.0       50.0         50-100   \n",
            "1130  MOTOR 75HP 575V 4P 60Hz 404/5T CC.IZQ   4.0       60.0         50-100   \n",
            "1131  MOTOR 10HP 575V 4P 50Hz 2135TC CC.IZQ   4.0       50.0           0-50   \n",
            "1132   MOTOR 50HP 575V 4P 50Hz 225SM CC.IZQ   4.0       50.0           0-50   \n",
            "\n",
            "                            Potencia_RPM  \n",
            "6      MOTOR DE 5.0HP, 1460RPM y de 575V  \n",
            "7      MOTOR DE 5.0HP, 1460RPM y de 575V  \n",
            "8     MOTOR DE 25.0HP, 1480RPM y de 575V  \n",
            "9     MOTOR DE 25.0HP, 1350RPM y de 575V  \n",
            "18    MOTOR DE 10.0HP, 1480RPM y de 575V  \n",
            "...                                  ...  \n",
            "1127  MOTOR DE 60.0HP, 1500RPM y de 575V  \n",
            "1128  MOTOR DE 60.0HP, 1500RPM y de 575V  \n",
            "1130  MOTOR DE 75.0HP, 1800RPM y de 575V  \n",
            "1131  MOTOR DE 10.0HP, 1500RPM y de 575V  \n",
            "1132  MOTOR DE 50.0HP, 1500RPM y de 575V  \n",
            "\n",
            "[602 rows x 28 columns]\n"
          ]
        }
      ]
    },
    {
      "cell_type": "code",
      "source": [
        "# prompt: descargar registros reparables 2\n",
        "\n",
        "# Descargar el archivo 'registros_reparables2.xlsx'\n",
        "from google.colab import files\n",
        "registros_reparables2.to_excel('registros_reparables2.xlsx', index=False)\n",
        "files.download('registros_reparables2.xlsx')"
      ],
      "metadata": {
        "colab": {
          "base_uri": "https://localhost:8080/",
          "height": 17
        },
        "id": "v9_ObPHS7L4B",
        "outputId": "b10c2983-ae2d-4f16-bba0-35192cdbbfdf"
      },
      "execution_count": null,
      "outputs": [
        {
          "output_type": "display_data",
          "data": {
            "text/plain": [
              "<IPython.core.display.Javascript object>"
            ],
            "application/javascript": [
              "\n",
              "    async function download(id, filename, size) {\n",
              "      if (!google.colab.kernel.accessAllowed) {\n",
              "        return;\n",
              "      }\n",
              "      const div = document.createElement('div');\n",
              "      const label = document.createElement('label');\n",
              "      label.textContent = `Downloading \"${filename}\": `;\n",
              "      div.appendChild(label);\n",
              "      const progress = document.createElement('progress');\n",
              "      progress.max = size;\n",
              "      div.appendChild(progress);\n",
              "      document.body.appendChild(div);\n",
              "\n",
              "      const buffers = [];\n",
              "      let downloaded = 0;\n",
              "\n",
              "      const channel = await google.colab.kernel.comms.open(id);\n",
              "      // Send a message to notify the kernel that we're ready.\n",
              "      channel.send({})\n",
              "\n",
              "      for await (const message of channel.messages) {\n",
              "        // Send a message to notify the kernel that we're ready.\n",
              "        channel.send({})\n",
              "        if (message.buffers) {\n",
              "          for (const buffer of message.buffers) {\n",
              "            buffers.push(buffer);\n",
              "            downloaded += buffer.byteLength;\n",
              "            progress.value = downloaded;\n",
              "          }\n",
              "        }\n",
              "      }\n",
              "      const blob = new Blob(buffers, {type: 'application/binary'});\n",
              "      const a = document.createElement('a');\n",
              "      a.href = window.URL.createObjectURL(blob);\n",
              "      a.download = filename;\n",
              "      div.appendChild(a);\n",
              "      a.click();\n",
              "      div.remove();\n",
              "    }\n",
              "  "
            ]
          },
          "metadata": {}
        },
        {
          "output_type": "display_data",
          "data": {
            "text/plain": [
              "<IPython.core.display.Javascript object>"
            ],
            "application/javascript": [
              "download(\"download_07c7e090-8348-4bce-b96a-52fa643fb79b\", \"registros_reparables2.xlsx\", 95993)"
            ]
          },
          "metadata": {}
        }
      ]
    }
  ]
}