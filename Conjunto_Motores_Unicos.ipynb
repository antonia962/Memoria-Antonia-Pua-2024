{
  "nbformat": 4,
  "nbformat_minor": 0,
  "metadata": {
    "colab": {
      "provenance": []
    },
    "kernelspec": {
      "name": "python3",
      "display_name": "Python 3"
    },
    "language_info": {
      "name": "python"
    }
  },
  "cells": [
    {
      "cell_type": "markdown",
      "source": [
        "# SELECCIÓN DE SEGMENTO CRITICO: MOTORES OBJETIVOS"
      ],
      "metadata": {
        "id": "Eb5IkyZ8eIeI"
      }
    },
    {
      "cell_type": "code",
      "source": [
        "import pandas as pd\n",
        "import matplotlib.pyplot as plt\n",
        "import numpy as np\n",
        "import seaborn as sns"
      ],
      "metadata": {
        "id": "hhuC3Qt1cWkx"
      },
      "execution_count": null,
      "outputs": []
    },
    {
      "cell_type": "code",
      "execution_count": null,
      "metadata": {
        "id": "yqaOsku_bttR"
      },
      "outputs": [],
      "source": [
        "# Ruta del archivo Excel\n",
        "ruta_archivo = '/content/motores_objetivos.xlsx'\n",
        "\n",
        "# Cargar el archivo Excel en un DataFrame\n",
        "motores_objetivos = pd.read_excel(ruta_archivo, sheet_name='Sheet1')"
      ]
    },
    {
      "cell_type": "code",
      "source": [
        "print(f\"Total de motores objetivos : {len(motores_objetivos)}\")\n"
      ],
      "metadata": {
        "id": "zg51vqhCcqez",
        "colab": {
          "base_uri": "https://localhost:8080/"
        },
        "outputId": "c15f8e36-7320-4755-ee05-2c8be119ed94"
      },
      "execution_count": null,
      "outputs": [
        {
          "output_type": "stream",
          "name": "stdout",
          "text": [
            "Total de motores objetivos : 700\n"
          ]
        }
      ]
    },
    {
      "cell_type": "markdown",
      "source": [
        "# DATA DE MOTORES UNICOS DE LOS MOTORES OBJETIVOS\n"
      ],
      "metadata": {
        "id": "yZu0VLBZ1Zj2"
      }
    },
    {
      "cell_type": "markdown",
      "source": [
        "*Estos se identificaron con los registros en donde se repitieran las siguientes caracteristicas: MARCA, RPM, POTENCIA, FRAME y Polos*"
      ],
      "metadata": {
        "id": "iytPhBCr1kC8"
      }
    },
    {
      "cell_type": "code",
      "source": [
        "#DATA MOTORES UNICOS\n",
        "motores_unicos = motores_objetivos.drop_duplicates(subset=['MARCA ', 'R.P.M', 'POTENCIA (HP)','VOLTAJE', 'FRAME','Polos'])\n",
        "print(f\"Cantidad de motores objetivos unicos: {len(motores_unicos)}\")"
      ],
      "metadata": {
        "id": "qfMaSWENcrog",
        "colab": {
          "base_uri": "https://localhost:8080/"
        },
        "outputId": "d5fd6e89-2ffa-4dec-a382-e066b707d14c"
      },
      "execution_count": null,
      "outputs": [
        {
          "output_type": "stream",
          "name": "stdout",
          "text": [
            "Cantidad de motores objetivos unicos: 320\n"
          ]
        }
      ]
    },
    {
      "cell_type": "markdown",
      "source": [
        "# ID PARA MOTORES Y AGREGAR CANTIDADES DE MOTORES QUE HAY DE CADA MOTOR UNICO\n"
      ],
      "metadata": {
        "id": "nQG8UuCL5R3k"
      }
    },
    {
      "cell_type": "markdown",
      "source": [
        "\n",
        "Objetivos de la creación de cada columna:\n",
        "* **ID_Motor:** Facilitar la identificación única de cada motor mediante un ID formal, permitiendo establecer conexiones y relaciones en análisis posteriores.\n",
        "* **Cantidad:** Indicar el número de motores instalados en los procesos, agrupados por cada motor único."
      ],
      "metadata": {
        "id": "bbMBNCYB14kv"
      }
    },
    {
      "cell_type": "markdown",
      "source": [
        "Crear ID para cada motor unico"
      ],
      "metadata": {
        "id": "LaJfllJa5HyG"
      }
    },
    {
      "cell_type": "code",
      "source": [
        "import string\n",
        "\n",
        "def generate_unique_id(df):\n",
        "    \"\"\"\n",
        "    Genera un ID único para cada motor en el DataFrame.\n",
        "\n",
        "    Args:\n",
        "        df: DataFrame con motores únicos.\n",
        "\n",
        "    Returns:\n",
        "        DataFrame con una nueva columna 'ID_Motor' con IDs únicos.\n",
        "    \"\"\"\n",
        "    df.loc[:, 'ID_Motor'] = ['M' + str(i).zfill(3) for i in range(1, len(df) + 1)]\n",
        "    return df\n",
        "\n",
        "motores_unicos = motores_unicos.copy()  # Asegura que no sea una vista\n",
        "motores_unicos = generate_unique_id(motores_unicos)\n"
      ],
      "metadata": {
        "id": "QwDludr3mI9B"
      },
      "execution_count": null,
      "outputs": []
    },
    {
      "cell_type": "markdown",
      "source": [
        "Agregar ID a motores objetivos"
      ],
      "metadata": {
        "id": "q20XbjhE5CM7"
      }
    },
    {
      "cell_type": "code",
      "source": [
        "# AGREGAR ID A MOTORES OBJETIVOS\n",
        "motores_objetivos= pd.merge(motores_objetivos, motores_unicos[['MARCA ', 'R.P.M', 'POTENCIA (HP)', 'FRAME', 'ID_Motor']],\n",
        "                                    on=['MARCA ', 'R.P.M', 'POTENCIA (HP)', 'FRAME'], how='left')\n",
        "\n",
        "print(motores_objetivos)"
      ],
      "metadata": {
        "id": "Au_umLCsmRJC",
        "colab": {
          "base_uri": "https://localhost:8080/"
        },
        "outputId": "1c995ea8-e57f-4246-b79f-0089d84e34e2"
      },
      "execution_count": null,
      "outputs": [
        {
          "output_type": "stream",
          "name": "stdout",
          "text": [
            "       N° PROCESO SECTOR/UBICACIÓN                EQUIPO          MARCA   \\\n",
            "0       1  04 PPC     FILTROS MOLY     FILTRO TAMBOR 601             WEG   \n",
            "1       3  04 PPC     FILTROS MOLY  FILTRO ACCIONAMIENTO  ALLIS CHALMERS   \n",
            "2       9  04 PPC     FILTROS MOLY   FILTRO TOR. SIN FIN          LENZE    \n",
            "3      10  04 PPC              NaN          TORNILLO N°5          S/DATO   \n",
            "4      11  04 PPC     FILTROS MOLY     BOMBA ACEITE Nº 1  ALLIS CHALMERS   \n",
            "..    ...     ...              ...                   ...             ...   \n",
            "757  1171  03 PMC     PLANTA P.T.R          BOMBA Nº 752             WEG   \n",
            "758  1172  03 PMC     PLANTA P.T.R          BOMBA Nº 756          BALDOR   \n",
            "759  1174  03 PMC     PLANTA P.T.R          BOMBA Nº 758  ALLIS CHALMERS   \n",
            "760  1174  03 PMC     PLANTA P.T.R          BOMBA Nº 758  ALLIS CHALMERS   \n",
            "761  1176  03 PMC     PLANTA P.T.R          BOMBA Nº 786            TECO   \n",
            "\n",
            "                Nº SERIE   FRAME  POTENCIA (HP)  VOLTAJE  R.P.M  \\\n",
            "0                AS32136   184-T            3.0      575   1480   \n",
            "1                S/SERIE   145-T            1.0      575   1450   \n",
            "2               9LH/896H  S/DATO            3.0      575   1420   \n",
            "3                S/SERIE   132-M            3.0      575   1455   \n",
            "4    1-5102-28685-24-229   254-T           10.0      550   1450   \n",
            "..                   ...     ...            ...      ...    ...   \n",
            "757              S/SERIE   180-M           20.0      575   1470   \n",
            "758          C0711070278   326-T           50.0      575   1480   \n",
            "759     1-5106-79392-1-2   364-T           50.0      550   1465   \n",
            "760     1-5106-79392-1-2   364-T           50.0      550   1465   \n",
            "761            030394-2M   225-S           40.0      575   1455   \n",
            "\n",
            "          Adicional Observaciones                 SEG_VOLT  Polos  Frecuencia  \\\n",
            "0               NaN           NaN  BAJO VOLTAJE 2(550-585)      4          50   \n",
            "1               NaN           NaN  BAJO VOLTAJE 2(550-585)      4          50   \n",
            "2               NaN           NaN  BAJO VOLTAJE 2(550-585)      4          50   \n",
            "3               NaN           NaN  BAJO VOLTAJE 2(550-585)      4          50   \n",
            "4               NaN           NaN  BAJO VOLTAJE 2(550-585)      4          50   \n",
            "..              ...           ...                      ...    ...         ...   \n",
            "757  BOMBAS DE POZO           NaN  BAJO VOLTAJE 2(550-585)      4          50   \n",
            "758  BOMBAS DE POZO           NaN  BAJO VOLTAJE 2(550-585)      4          50   \n",
            "759  BOMBAS DE POZO           NaN  BAJO VOLTAJE 2(550-585)      4          50   \n",
            "760  BOMBAS DE POZO           NaN  BAJO VOLTAJE 2(550-585)      4          50   \n",
            "761  BOMBAS DE POZO           NaN  BAJO VOLTAJE 2(550-585)      4          50   \n",
            "\n",
            "    Rango_Potencia ID_Motor  \n",
            "0             0-50     M001  \n",
            "1             0-50     M002  \n",
            "2             0-50     M003  \n",
            "3             0-50     M004  \n",
            "4             0-50     M005  \n",
            "..             ...      ...  \n",
            "757           0-50     M028  \n",
            "758           0-50     M008  \n",
            "759           0-50     M234  \n",
            "760           0-50     M319  \n",
            "761           0-50     M320  \n",
            "\n",
            "[762 rows x 17 columns]\n"
          ]
        }
      ]
    },
    {
      "cell_type": "markdown",
      "source": [
        "Agregar cantidad de motores a data de motores unicos"
      ],
      "metadata": {
        "id": "W2-AAfkB44Oi"
      }
    },
    {
      "cell_type": "code",
      "source": [
        "# Contar la cantidad de motores para cada motor único\n",
        "conteo_motores = motores_objetivos.groupby('ID_Motor')['ID_Motor'].count().reset_index(name='CANTIDAD')\n",
        "\n",
        "# Unir la información del conteo al DataFrame de motores únicos\n",
        "motores_unicos = pd.merge(motores_unicos, conteo_motores, on='ID_Motor', how='left')"
      ],
      "metadata": {
        "id": "gmRDb9AHmlIL"
      },
      "execution_count": null,
      "outputs": []
    },
    {
      "cell_type": "markdown",
      "source": [
        "**Motores unicos con columnas reducidas (para descargar columnas realmente importantes)**"
      ],
      "metadata": {
        "id": "pzvPVHmD4vwz"
      }
    },
    {
      "cell_type": "code",
      "source": [
        "motores_unicos_reducidos = motores_unicos[['ID_Motor', 'R.P.M', 'POTENCIA (HP)', 'VOLTAJE', 'FRAME', 'MARCA ', 'CANTIDAD' ]]\n",
        "print(motores_unicos_reducidos)"
      ],
      "metadata": {
        "id": "rODSA5DhmvzT",
        "colab": {
          "base_uri": "https://localhost:8080/"
        },
        "outputId": "b21fcb5e-9cd7-41ca-cbce-5094e4c772ab"
      },
      "execution_count": null,
      "outputs": [
        {
          "output_type": "stream",
          "name": "stdout",
          "text": [
            "    ID_Motor  R.P.M  POTENCIA (HP)  VOLTAJE   FRAME           MARCA   CANTIDAD\n",
            "0       M001   1480            3.0      575   184-T              WEG         1\n",
            "1       M002   1450            1.0      575   145-T   ALLIS CHALMERS         1\n",
            "2       M003   1420            3.0      575  S/DATO           LENZE          1\n",
            "3       M004   1455            3.0      575   132-M           S/DATO         1\n",
            "4       M005   1450           10.0      550   254-T   ALLIS CHALMERS         4\n",
            "..       ...    ...            ...      ...     ...              ...       ...\n",
            "315     M316   1475           40.0      575   326-T  U.S. ELECTRICAL         1\n",
            "316     M317   1470           13.0      575  S/DATO             ASEA         1\n",
            "317     M318   1470           30.0      575  S/DATO             ASEA         1\n",
            "318     M319   1465           50.0      550   364-T   ALLIS CHALMERS         2\n",
            "319     M320   1455           40.0      575   225-S             TECO         1\n",
            "\n",
            "[320 rows x 7 columns]\n"
          ]
        }
      ]
    },
    {
      "cell_type": "code",
      "source": [
        "motores_unicos_reducidos.to_excel('Motores_Unicos.xlsx', index=False)\n",
        "motores_objetivos.to_excel('Motores_Objetivos.xlsx', index=False)\n",
        "\n",
        "# Download the Excel file\n",
        "from google.colab import files\n",
        "files.download('Motores_Unicos.xlsx')\n",
        "files.download('Motores_Objetivos.xlsx')"
      ],
      "metadata": {
        "colab": {
          "base_uri": "https://localhost:8080/",
          "height": 52
        },
        "id": "Plz8fmk2hvJ4",
        "outputId": "bced2431-d957-47c3-ee0d-ca1be868652f"
      },
      "execution_count": null,
      "outputs": [
        {
          "output_type": "display_data",
          "data": {
            "text/plain": [
              "<IPython.core.display.Javascript object>"
            ],
            "application/javascript": [
              "\n",
              "    async function download(id, filename, size) {\n",
              "      if (!google.colab.kernel.accessAllowed) {\n",
              "        return;\n",
              "      }\n",
              "      const div = document.createElement('div');\n",
              "      const label = document.createElement('label');\n",
              "      label.textContent = `Downloading \"${filename}\": `;\n",
              "      div.appendChild(label);\n",
              "      const progress = document.createElement('progress');\n",
              "      progress.max = size;\n",
              "      div.appendChild(progress);\n",
              "      document.body.appendChild(div);\n",
              "\n",
              "      const buffers = [];\n",
              "      let downloaded = 0;\n",
              "\n",
              "      const channel = await google.colab.kernel.comms.open(id);\n",
              "      // Send a message to notify the kernel that we're ready.\n",
              "      channel.send({})\n",
              "\n",
              "      for await (const message of channel.messages) {\n",
              "        // Send a message to notify the kernel that we're ready.\n",
              "        channel.send({})\n",
              "        if (message.buffers) {\n",
              "          for (const buffer of message.buffers) {\n",
              "            buffers.push(buffer);\n",
              "            downloaded += buffer.byteLength;\n",
              "            progress.value = downloaded;\n",
              "          }\n",
              "        }\n",
              "      }\n",
              "      const blob = new Blob(buffers, {type: 'application/binary'});\n",
              "      const a = document.createElement('a');\n",
              "      a.href = window.URL.createObjectURL(blob);\n",
              "      a.download = filename;\n",
              "      div.appendChild(a);\n",
              "      a.click();\n",
              "      div.remove();\n",
              "    }\n",
              "  "
            ]
          },
          "metadata": {}
        },
        {
          "output_type": "display_data",
          "data": {
            "text/plain": [
              "<IPython.core.display.Javascript object>"
            ],
            "application/javascript": [
              "download(\"download_5c6919e9-edc0-47d8-89a9-79fc0540998a\", \"Motores_Unicos.xlsx\", 15853)"
            ]
          },
          "metadata": {}
        },
        {
          "output_type": "display_data",
          "data": {
            "text/plain": [
              "<IPython.core.display.Javascript object>"
            ],
            "application/javascript": [
              "\n",
              "    async function download(id, filename, size) {\n",
              "      if (!google.colab.kernel.accessAllowed) {\n",
              "        return;\n",
              "      }\n",
              "      const div = document.createElement('div');\n",
              "      const label = document.createElement('label');\n",
              "      label.textContent = `Downloading \"${filename}\": `;\n",
              "      div.appendChild(label);\n",
              "      const progress = document.createElement('progress');\n",
              "      progress.max = size;\n",
              "      div.appendChild(progress);\n",
              "      document.body.appendChild(div);\n",
              "\n",
              "      const buffers = [];\n",
              "      let downloaded = 0;\n",
              "\n",
              "      const channel = await google.colab.kernel.comms.open(id);\n",
              "      // Send a message to notify the kernel that we're ready.\n",
              "      channel.send({})\n",
              "\n",
              "      for await (const message of channel.messages) {\n",
              "        // Send a message to notify the kernel that we're ready.\n",
              "        channel.send({})\n",
              "        if (message.buffers) {\n",
              "          for (const buffer of message.buffers) {\n",
              "            buffers.push(buffer);\n",
              "            downloaded += buffer.byteLength;\n",
              "            progress.value = downloaded;\n",
              "          }\n",
              "        }\n",
              "      }\n",
              "      const blob = new Blob(buffers, {type: 'application/binary'});\n",
              "      const a = document.createElement('a');\n",
              "      a.href = window.URL.createObjectURL(blob);\n",
              "      a.download = filename;\n",
              "      div.appendChild(a);\n",
              "      a.click();\n",
              "      div.remove();\n",
              "    }\n",
              "  "
            ]
          },
          "metadata": {}
        },
        {
          "output_type": "display_data",
          "data": {
            "text/plain": [
              "<IPython.core.display.Javascript object>"
            ],
            "application/javascript": [
              "download(\"download_5666ee68-a2d7-427b-a520-6c2d198f1689\", \"Motores_Objetivos.xlsx\", 66880)"
            ]
          },
          "metadata": {}
        }
      ]
    }
  ]
}