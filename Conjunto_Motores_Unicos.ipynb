{
  "nbformat": 4,
  "nbformat_minor": 0,
  "metadata": {
    "colab": {
      "provenance": []
    },
    "kernelspec": {
      "name": "python3",
      "display_name": "Python 3"
    },
    "language_info": {
      "name": "python"
    }
  },
  "cells": [
    {
      "cell_type": "markdown",
      "source": [
        "# SELECCIÓN DE SEGMENTO CRITICO: MOTORES OBJETIVOS"
      ],
      "metadata": {
        "id": "Eb5IkyZ8eIeI"
      }
    },
    {
      "cell_type": "code",
      "source": [
        "import pandas as pd\n",
        "import matplotlib.pyplot as plt\n",
        "import numpy as np\n",
        "import seaborn as sns"
      ],
      "metadata": {
        "id": "hhuC3Qt1cWkx"
      },
      "execution_count": 2,
      "outputs": []
    },
    {
      "cell_type": "code",
      "execution_count": 10,
      "metadata": {
        "id": "yqaOsku_bttR"
      },
      "outputs": [],
      "source": [
        "# Ruta del archivo Excel\n",
        "ruta_archivo = '/content/motores_objetivos.xlsx'\n",
        "\n",
        "# Cargar el archivo Excel en un DataFrame\n",
        "motores_objetivos = pd.read_excel(ruta_archivo, sheet_name='Sheet1')"
      ]
    },
    {
      "cell_type": "code",
      "source": [
        "print(f\"Total de motores objetivos : {len(motores_objetivos)}\")\n",
        "print(f\"Total de motores objetivos con características repetidas(unicos): {sum(len(grupo) >= 1 for _, grupo in motores_objetivos.groupby(['MARCA ', 'R.P.M', 'POTENCIA (HP)', 'FRAME']))}\")\n"
      ],
      "metadata": {
        "id": "zg51vqhCcqez"
      },
      "execution_count": null,
      "outputs": []
    },
    {
      "cell_type": "markdown",
      "source": [
        "# DATA DE MOTORES UNICOS DE LOS MOTORES OBJETIVOS\n"
      ],
      "metadata": {
        "id": "yZu0VLBZ1Zj2"
      }
    },
    {
      "cell_type": "markdown",
      "source": [
        "*Estos se identificaron con los registros en donde se repitieran las siguientes caracteristicas: MARCA, RPM, POTENCIA, FRAME y Polos*"
      ],
      "metadata": {
        "id": "iytPhBCr1kC8"
      }
    },
    {
      "cell_type": "code",
      "source": [
        "#DATA MOTORES UNICOS\n",
        "motores_unicos = motores_objetivos.drop_duplicates(subset=['MARCA ', 'R.P.M', 'POTENCIA (HP)', 'FRAME','Polos'])\n",
        "print(f\"Cantidad de motores objetivos unicos: {len(motores_unicos)}\")"
      ],
      "metadata": {
        "id": "qfMaSWENcrog"
      },
      "execution_count": null,
      "outputs": []
    },
    {
      "cell_type": "markdown",
      "source": [
        "# ID PARA MOTORES Y AGREGAR CANTIDADES DE MOTORES QUE HAY DE CADA MOTOR UNICO\n"
      ],
      "metadata": {
        "id": "nQG8UuCL5R3k"
      }
    },
    {
      "cell_type": "markdown",
      "source": [
        "\n",
        "Objetivos de la creación de cada columna:\n",
        "* **ID_Motor:** Facilitar la identificación única de cada motor mediante un ID formal, permitiendo establecer conexiones y relaciones en análisis posteriores.\n",
        "* **Cantidad:** Indicar el número de motores instalados en los procesos, agrupados por cada motor único."
      ],
      "metadata": {
        "id": "bbMBNCYB14kv"
      }
    },
    {
      "cell_type": "markdown",
      "source": [
        "Crear ID para cada motor unico"
      ],
      "metadata": {
        "id": "LaJfllJa5HyG"
      }
    },
    {
      "cell_type": "code",
      "source": [
        "import string\n",
        "\n",
        "def generate_unique_id(df):\n",
        "    \"\"\"\n",
        "    Genera un ID único para cada motor en el DataFrame.\n",
        "\n",
        "    Args:\n",
        "        df: DataFrame con motores únicos.\n",
        "\n",
        "    Returns:\n",
        "        DataFrame con una nueva columna 'ID_Motor' con IDs únicos.\n",
        "    \"\"\"\n",
        "    df.loc[:, 'ID_Motor'] = ['M' + str(i).zfill(3) for i in range(1, len(df) + 1)]\n",
        "    return df\n",
        "\n",
        "motores_unicos = motores_unicos.copy()  # Asegura que no sea una vista\n",
        "motores_unicos = generate_unique_id(motores_unicos)\n"
      ],
      "metadata": {
        "id": "QwDludr3mI9B"
      },
      "execution_count": 13,
      "outputs": []
    },
    {
      "cell_type": "markdown",
      "source": [
        "Agregar ID a motores objetivos"
      ],
      "metadata": {
        "id": "q20XbjhE5CM7"
      }
    },
    {
      "cell_type": "code",
      "source": [
        "# AGREGAR ID A MOTORES OBJETIVOS\n",
        "motores_objetivos= pd.merge(motores_objetivos, motores_unicos[['MARCA ', 'R.P.M', 'POTENCIA (HP)', 'FRAME', 'ID_Motor']],\n",
        "                                    on=['MARCA ', 'R.P.M', 'POTENCIA (HP)', 'FRAME'], how='left')\n",
        "\n",
        "print(motores_objetivos)"
      ],
      "metadata": {
        "id": "Au_umLCsmRJC"
      },
      "execution_count": null,
      "outputs": []
    },
    {
      "cell_type": "markdown",
      "source": [
        "Agregar cantidad de motores a data de motores unicos"
      ],
      "metadata": {
        "id": "W2-AAfkB44Oi"
      }
    },
    {
      "cell_type": "code",
      "source": [
        "# Contar la cantidad de motores para cada motor único\n",
        "conteo_motores = motores_objetivos.groupby('ID_Motor')['ID_Motor'].count().reset_index(name='CANTIDAD')\n",
        "\n",
        "# Unir la información del conteo al DataFrame de motores únicos\n",
        "motores_unicos = pd.merge(motores_unicos, conteo_motores, on='ID_Motor', how='left')"
      ],
      "metadata": {
        "id": "gmRDb9AHmlIL"
      },
      "execution_count": 15,
      "outputs": []
    },
    {
      "cell_type": "markdown",
      "source": [
        "**Motores unicos con columnas reducidas (para descargar columnas realmente importantes)**"
      ],
      "metadata": {
        "id": "pzvPVHmD4vwz"
      }
    },
    {
      "cell_type": "code",
      "source": [
        "motores_unicos_reducidos = motores_unicos[['ID_Motor', 'R.P.M', 'POTENCIA (HP)', 'VOLTAJE', 'FRAME', 'MARCA ', 'CANTIDAD' ]]\n",
        "print(motores_unicos_reducidos)"
      ],
      "metadata": {
        "id": "rODSA5DhmvzT"
      },
      "execution_count": null,
      "outputs": []
    },
    {
      "cell_type": "code",
      "source": [
        "motores_unicos_reducidos.to_excel('Motores_Unicos.xlsx', index=False)\n",
        "motores_objetivos.to_excel('Motores_Objetivos.xlsx', index=False)\n",
        "\n",
        "# Download the Excel file\n",
        "from google.colab import files\n",
        "files.download('Motores_Unicos.xlsx')\n",
        "files.download('Motores_Objetivos.xlsx')"
      ],
      "metadata": {
        "colab": {
          "base_uri": "https://localhost:8080/",
          "height": 17
        },
        "id": "Plz8fmk2hvJ4",
        "outputId": "2c583ced-2a77-43b1-89a7-3f479ca6f044"
      },
      "execution_count": 17,
      "outputs": [
        {
          "output_type": "display_data",
          "data": {
            "text/plain": [
              "<IPython.core.display.Javascript object>"
            ],
            "application/javascript": [
              "\n",
              "    async function download(id, filename, size) {\n",
              "      if (!google.colab.kernel.accessAllowed) {\n",
              "        return;\n",
              "      }\n",
              "      const div = document.createElement('div');\n",
              "      const label = document.createElement('label');\n",
              "      label.textContent = `Downloading \"${filename}\": `;\n",
              "      div.appendChild(label);\n",
              "      const progress = document.createElement('progress');\n",
              "      progress.max = size;\n",
              "      div.appendChild(progress);\n",
              "      document.body.appendChild(div);\n",
              "\n",
              "      const buffers = [];\n",
              "      let downloaded = 0;\n",
              "\n",
              "      const channel = await google.colab.kernel.comms.open(id);\n",
              "      // Send a message to notify the kernel that we're ready.\n",
              "      channel.send({})\n",
              "\n",
              "      for await (const message of channel.messages) {\n",
              "        // Send a message to notify the kernel that we're ready.\n",
              "        channel.send({})\n",
              "        if (message.buffers) {\n",
              "          for (const buffer of message.buffers) {\n",
              "            buffers.push(buffer);\n",
              "            downloaded += buffer.byteLength;\n",
              "            progress.value = downloaded;\n",
              "          }\n",
              "        }\n",
              "      }\n",
              "      const blob = new Blob(buffers, {type: 'application/binary'});\n",
              "      const a = document.createElement('a');\n",
              "      a.href = window.URL.createObjectURL(blob);\n",
              "      a.download = filename;\n",
              "      div.appendChild(a);\n",
              "      a.click();\n",
              "      div.remove();\n",
              "    }\n",
              "  "
            ]
          },
          "metadata": {}
        },
        {
          "output_type": "display_data",
          "data": {
            "text/plain": [
              "<IPython.core.display.Javascript object>"
            ],
            "application/javascript": [
              "download(\"download_57edd164-f419-4886-ad01-18ad9488b52c\", \"Motores_Unicos.xlsx\", 15570)"
            ]
          },
          "metadata": {}
        },
        {
          "output_type": "display_data",
          "data": {
            "text/plain": [
              "<IPython.core.display.Javascript object>"
            ],
            "application/javascript": [
              "\n",
              "    async function download(id, filename, size) {\n",
              "      if (!google.colab.kernel.accessAllowed) {\n",
              "        return;\n",
              "      }\n",
              "      const div = document.createElement('div');\n",
              "      const label = document.createElement('label');\n",
              "      label.textContent = `Downloading \"${filename}\": `;\n",
              "      div.appendChild(label);\n",
              "      const progress = document.createElement('progress');\n",
              "      progress.max = size;\n",
              "      div.appendChild(progress);\n",
              "      document.body.appendChild(div);\n",
              "\n",
              "      const buffers = [];\n",
              "      let downloaded = 0;\n",
              "\n",
              "      const channel = await google.colab.kernel.comms.open(id);\n",
              "      // Send a message to notify the kernel that we're ready.\n",
              "      channel.send({})\n",
              "\n",
              "      for await (const message of channel.messages) {\n",
              "        // Send a message to notify the kernel that we're ready.\n",
              "        channel.send({})\n",
              "        if (message.buffers) {\n",
              "          for (const buffer of message.buffers) {\n",
              "            buffers.push(buffer);\n",
              "            downloaded += buffer.byteLength;\n",
              "            progress.value = downloaded;\n",
              "          }\n",
              "        }\n",
              "      }\n",
              "      const blob = new Blob(buffers, {type: 'application/binary'});\n",
              "      const a = document.createElement('a');\n",
              "      a.href = window.URL.createObjectURL(blob);\n",
              "      a.download = filename;\n",
              "      div.appendChild(a);\n",
              "      a.click();\n",
              "      div.remove();\n",
              "    }\n",
              "  "
            ]
          },
          "metadata": {}
        },
        {
          "output_type": "display_data",
          "data": {
            "text/plain": [
              "<IPython.core.display.Javascript object>"
            ],
            "application/javascript": [
              "download(\"download_18e09e98-f4a3-44da-afde-888c41993c3e\", \"Motores_Objetivos.xlsx\", 62906)"
            ]
          },
          "metadata": {}
        }
      ]
    }
  ]
}