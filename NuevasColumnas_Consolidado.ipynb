{
  "nbformat": 4,
  "nbformat_minor": 0,
  "metadata": {
    "colab": {
      "provenance": []
    },
    "kernelspec": {
      "name": "python3",
      "display_name": "Python 3"
    },
    "language_info": {
      "name": "python"
    }
  },
  "cells": [
    {
      "cell_type": "markdown",
      "source": [
        "# **Cargar  Consolidado**"
      ],
      "metadata": {
        "id": "-p2Mn0SBerqf"
      }
    },
    {
      "cell_type": "code",
      "execution_count": 1,
      "metadata": {
        "id": "Sgd7IvKxeavu"
      },
      "outputs": [],
      "source": [
        "import pandas as pd\n",
        "\n",
        "# Ruta del archivo Excel(Cambie esto por la ruta de su consolidado de motores)\n",
        "ruta_archivo = '/content/PARQUE DE MOTORES - CONSOLIDADO.xlsx'\n",
        "\n",
        "# Cargar el archivo Excel en un DataFrame\n",
        "consolidado = pd.read_excel(ruta_archivo, sheet_name='Consolidado') #Cambie el nombre de la hoja por la de su archivo"
      ]
    },
    {
      "cell_type": "markdown",
      "source": [
        "# **SEGMENTACIÓN DE VOLTAJE**"
      ],
      "metadata": {
        "id": "7KwZI1ybKXHA"
      }
    },
    {
      "cell_type": "markdown",
      "source": [
        "Visualización los datos de voltaje para tener una idea de como sera la segmentación"
      ],
      "metadata": {
        "id": "x0Ken4o9e_Vf"
      }
    },
    {
      "cell_type": "code",
      "source": [
        "voltajes = consolidado['VOLTAJE']\n",
        "conteos = voltajes.value_counts()\n",
        "print(conteos)"
      ],
      "metadata": {
        "colab": {
          "base_uri": "https://localhost:8080/"
        },
        "id": "qyu8D70uekMJ",
        "outputId": "4077e24c-3366-4c89-fe57-9de21083add7"
      },
      "execution_count": 3,
      "outputs": [
        {
          "output_type": "stream",
          "name": "stdout",
          "text": [
            "VOLTAJE\n",
            "575         733\n",
            "550         288\n",
            "4000         30\n",
            "380          18\n",
            "4160          9\n",
            "580           8\n",
            "480           4\n",
            "400/690       4\n",
            "220           3\n",
            "230           3\n",
            "230/460       2\n",
            "13200         2\n",
            "400/690       1\n",
            "230/400       1\n",
            "225/380       1\n",
            "572           1\n",
            "585           1\n",
            "Name: count, dtype: int64\n"
          ]
        }
      ]
    },
    {
      "cell_type": "code",
      "source": [
        "voltajes_exist= list(set(voltajes))\n",
        "print(voltajes_exist)"
      ],
      "metadata": {
        "colab": {
          "base_uri": "https://localhost:8080/"
        },
        "id": "KBPUYVe4e5-Z",
        "outputId": "85cf9258-b917-402b-ff48-b6826ff77ff5"
      },
      "execution_count": 4,
      "outputs": [
        {
          "output_type": "stream",
          "name": "stdout",
          "text": [
            "[4160, 4000, 480, '230/400', '225/380', 580, 550, 230, '400/690', 585, 575, 13200, '400/690 ', '230/460', 380, 220, 572, nan]\n"
          ]
        }
      ]
    },
    {
      "cell_type": "code",
      "source": [
        "import numpy as np\n",
        "# Definir segmentos de voltaje\n",
        "bajovolt1 = [480, 230, '230/460', '225/380','230/400',380, 220,400,'400/690 ','400/690']\n",
        "bajovolt2 = [550,575,572,585,580]\n",
        "med_volt = [4160,4000]\n",
        "alto_volt = [13200]\n",
        "# Definir los valores que se quieren agregar a la nueva columna para cada segmento\n",
        "valores = ['BAJO VOLTAJE 1(220-480)', 'BAJO VOLTAJE 2(550-585)', 'MEDIO VOLTAJE(4000/4160)', 'ALTO VOLTAJE(13200)', 'NAN']\n",
        "\n",
        "def segmentacion_voltaje(consolidado, bajovolt1, bajovolt2,med_volt, alto_volt, valores):\n",
        "  # Definir las condiciones\n",
        "  condiciones = [\n",
        "      consolidado['VOLTAJE'].isin(bajovolt1), # Use isin() to check if each value in the Series is present in the list\n",
        "      consolidado['VOLTAJE'].isin(bajovolt2),\n",
        "      consolidado['VOLTAJE'].isin(med_volt),\n",
        "      consolidado['VOLTAJE'].isin(alto_volt),\n",
        "      consolidado['VOLTAJE'].isna() # Use isna() to check for NaN values\n",
        "  ]\n",
        "      # Añadir una nueva columna basada en las condiciones\n",
        "  consolidado['SEG_VOLT'] = np.select(condiciones, valores, default='Desconocido')\n",
        "\n",
        "  return consolidado"
      ],
      "metadata": {
        "id": "0FcG8gMMfalQ"
      },
      "execution_count": 5,
      "outputs": []
    },
    {
      "cell_type": "code",
      "source": [
        "consolidado = segmentacion_voltaje(consolidado, bajovolt1, bajovolt2,med_volt, alto_volt, valores)"
      ],
      "metadata": {
        "id": "Qnx4JPP_KIW1"
      },
      "execution_count": 6,
      "outputs": []
    },
    {
      "cell_type": "code",
      "source": [
        "conteos = consolidado['SEG_VOLT'].value_counts()\n",
        "print(conteos)"
      ],
      "metadata": {
        "colab": {
          "base_uri": "https://localhost:8080/"
        },
        "id": "5tUMEpKWLgyn",
        "outputId": "6b92ae88-ee3d-4017-fc2b-472a61d5b34b"
      },
      "execution_count": 15,
      "outputs": [
        {
          "output_type": "stream",
          "name": "stdout",
          "text": [
            "SEG_VOLT\n",
            "BAJO VOLTAJE 2(550-585)     1031\n",
            "NAN                           67\n",
            "MEDIO VOLTAJE(4000/4160)      39\n",
            "BAJO VOLTAJE 1(220-480)       37\n",
            "ALTO VOLTAJE(13200)            2\n",
            "Name: count, dtype: int64\n"
          ]
        }
      ]
    },
    {
      "cell_type": "markdown",
      "source": [
        "# **CALCULO DE NUMERO DE POLOS Y FRECUENCIA (con la columna RPM)**"
      ],
      "metadata": {
        "id": "RZyRES73KsuC"
      }
    },
    {
      "cell_type": "code",
      "source": [
        "def determinar_polos_frecuencia(rpm):\n",
        "    rangos_60hz = {\n",
        "        3600: (2, 60),\n",
        "        1800: (4, 60),\n",
        "        1200: (6, 60),\n",
        "        900: (8, 60),\n",
        "        720: (10, 60),\n",
        "        600: (12, 60),\n",
        "        514: (14, 60),\n",
        "        450: (16, 60),\n",
        "        400: (18, 60),\n",
        "        360: (20, 60),\n",
        "        327: (22, 60),\n",
        "        300: (24, 60)\n",
        "    }\n",
        "    rangos_50hz = {\n",
        "        3000: (2, 50),\n",
        "        1500: (4, 50),\n",
        "        1000: (6, 50),\n",
        "        750: (8, 50),\n",
        "        600: (10, 50),\n",
        "        500: (12, 50),\n",
        "        428: (14, 50),\n",
        "        375: (16, 50),\n",
        "        333: (18, 50),\n",
        "        300: (20, 50)\n",
        "    }\n",
        "\n",
        "    def buscar_valor_mas_cercano(rpm, rangos):\n",
        "        # Buscar el valor más cercano superior\n",
        "        valor_mas_cercano = None\n",
        "        for valor_rpm in sorted(rangos.keys()):\n",
        "            if rpm <= valor_rpm:\n",
        "                valor_mas_cercano = valor_rpm\n",
        "                break\n",
        "        if valor_mas_cercano is not None:\n",
        "            return rangos[valor_mas_cercano]\n",
        "        return (None, None)\n",
        "\n",
        "    # Buscar el valor más cercano para 60 Hz\n",
        "    resultado_60hz = buscar_valor_mas_cercano(rpm, rangos_60hz)\n",
        "\n",
        "    # Buscar el valor más cercano para 50 Hz\n",
        "    resultado_50hz = buscar_valor_mas_cercano(rpm, rangos_50hz)\n",
        "\n",
        "    # Elegir el resultado que tenga la menor diferencia de RPM\n",
        "    if resultado_50hz[0] is not None and resultado_60hz[0] is not None:\n",
        "        diff_50hz = abs(rpm - next(val for val in sorted(rangos_50hz.keys()) if rpm <= val))\n",
        "        diff_60hz = abs(rpm - next(val for val in sorted(rangos_60hz.keys()) if rpm <= val))\n",
        "\n",
        "        if diff_50hz < diff_60hz:\n",
        "            return resultado_50hz\n",
        "        else:\n",
        "            return resultado_60hz\n",
        "    elif resultado_50hz[0] is not None:\n",
        "        return resultado_50hz\n",
        "    elif resultado_60hz[0] is not None:\n",
        "        return resultado_60hz\n",
        "    else:\n",
        "        return (None, None)"
      ],
      "metadata": {
        "id": "goboLoywKgsW"
      },
      "execution_count": 10,
      "outputs": []
    },
    {
      "cell_type": "code",
      "source": [
        "# Aplicar la función para determinar polos y frecuencia\n",
        "consolidado['Polos'], consolidado['Frecuencia'] = zip(*consolidado['R.P.M'].apply(determinar_polos_frecuencia))"
      ],
      "metadata": {
        "id": "XoYdzyLHLA1P"
      },
      "execution_count": 11,
      "outputs": []
    },
    {
      "cell_type": "code",
      "source": [
        "conteos = consolidado['Frecuencia'].value_counts()\n",
        "print(conteos)"
      ],
      "metadata": {
        "colab": {
          "base_uri": "https://localhost:8080/"
        },
        "id": "0Yfgj-CNLQSm",
        "outputId": "ea39bbad-ac88-43d4-ba89-4b377700e87e"
      },
      "execution_count": 13,
      "outputs": [
        {
          "output_type": "stream",
          "name": "stdout",
          "text": [
            "Frecuencia\n",
            "50.0    1075\n",
            "60.0      27\n",
            "Name: count, dtype: int64\n"
          ]
        }
      ]
    },
    {
      "cell_type": "code",
      "source": [
        "conteos = consolidado['Polos'].value_counts()\n",
        "print(conteos)"
      ],
      "metadata": {
        "colab": {
          "base_uri": "https://localhost:8080/"
        },
        "id": "o3VMfyFWLQy3",
        "outputId": "5f7ae193-d082-4076-85c4-a179d1a2c217"
      },
      "execution_count": 14,
      "outputs": [
        {
          "output_type": "stream",
          "name": "stdout",
          "text": [
            "Polos\n",
            "4.0     839\n",
            "6.0     141\n",
            "8.0      62\n",
            "2.0      33\n",
            "24.0     14\n",
            "16.0      7\n",
            "14.0      4\n",
            "12.0      2\n",
            "Name: count, dtype: int64\n"
          ]
        }
      ]
    },
    {
      "cell_type": "code",
      "source": [
        "# Descargar el DataFrame como un archivo Excel\n",
        "consolidado.to_excel('consolidado_motores1.xlsx', index=False)\n",
        " #puede descargarlo con el nombre que quiera, si usa colab este se guardara en archivos y lo tiene que descargar manual"
      ],
      "metadata": {
        "id": "LkPIoZopMyi9"
      },
      "execution_count": 17,
      "outputs": []
    }
  ]
}