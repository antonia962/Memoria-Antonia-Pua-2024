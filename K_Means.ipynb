{
  "nbformat": 4,
  "nbformat_minor": 0,
  "metadata": {
    "colab": {
      "provenance": []
    },
    "kernelspec": {
      "name": "python3",
      "display_name": "Python 3"
    },
    "language_info": {
      "name": "python"
    }
  },
  "cells": [
    {
      "cell_type": "markdown",
      "source": [
        "# IMPORTACIÓN DE LIBRERIAS Y CONJUNTO DE DATOS"
      ],
      "metadata": {
        "id": "x8TbnglMtXS7"
      }
    },
    {
      "cell_type": "code",
      "execution_count": 1,
      "metadata": {
        "id": "5tCMTTuysjPm"
      },
      "outputs": [],
      "source": [
        "import pandas as pd\n",
        "import matplotlib.pyplot as plt\n",
        "import numpy as np\n",
        "import seaborn as sns\n",
        "from sklearn.cluster import KMeans\n",
        "from sklearn.preprocessing import StandardScaler"
      ]
    },
    {
      "cell_type": "code",
      "source": [
        "import tabulate\n",
        "from tabulate import tabulate"
      ],
      "metadata": {
        "id": "Gg6tvCcGvQ5j"
      },
      "execution_count": 2,
      "outputs": []
    },
    {
      "cell_type": "code",
      "source": [
        "motores_unicos = pd.read_excel('/content/Motores_Unicos.xlsx')"
      ],
      "metadata": {
        "id": "T-l1lXPkslXD"
      },
      "execution_count": 4,
      "outputs": []
    },
    {
      "cell_type": "markdown",
      "source": [
        "# EJECUTAMIENTO DE K - MEANS"
      ],
      "metadata": {
        "id": "7VRLUUHgtdAq"
      }
    },
    {
      "cell_type": "markdown",
      "source": [
        "SELECCIÓN DE VARIABLES"
      ],
      "metadata": {
        "id": "wJ09Rv9Ds3l0"
      }
    },
    {
      "cell_type": "code",
      "source": [
        "# Seleccionar las columnas 'R.P.M' y 'POTENCIA (HP)' para el clustering\n",
        "X = motores_unicos[['R.P.M', 'POTENCIA (HP)']]\n",
        "\n",
        "# Escalar los datos para que todas las características tengan la misma importancia\n",
        "scaler = StandardScaler()\n",
        "X_scaled = scaler.fit_transform(X)"
      ],
      "metadata": {
        "id": "j81FjaoAs6CU"
      },
      "execution_count": 5,
      "outputs": []
    },
    {
      "cell_type": "markdown",
      "source": [
        "SELECCIÓN DEL K OPTIMO"
      ],
      "metadata": {
        "id": "JhHKYACss8Bz"
      }
    },
    {
      "cell_type": "code",
      "source": [
        "import numpy as np\n",
        "import matplotlib.pyplot as plt\n",
        "from sklearn.cluster import KMeans\n",
        "from sklearn.metrics import silhouette_score\n",
        "\n",
        "# Crear una lista para almacenar los valores de la medida de silueta para diferentes números de clusters\n",
        "silhouette_scores = []\n",
        "\n",
        "# Iterar sobre un rango de números de clusters\n",
        "for n_clusters in range(2, 130):  # Puedes ajustar el rango según sea necesario\n",
        "    kmeans = KMeans(n_clusters=n_clusters, random_state=42)\n",
        "    kmeans.fit(X_scaled)\n",
        "    silhouette_avg = silhouette_score(X_scaled, kmeans.labels_)\n",
        "    silhouette_scores.append(silhouette_avg)\n",
        "\n",
        "# Crear un gráfico de la medida de silueta vs. número de clusters\n",
        "plt.figure(figsize=(12, 6))  # Aumentar el tamaño de la figura\n",
        "plt.plot(range(2, 130), silhouette_scores, marker='o')\n",
        "plt.xlabel('Número de Clusters')\n",
        "plt.ylabel('Medida de Silueta')\n",
        "plt.title('Medida de Silueta vs. Número de Clusters')\n",
        "\n",
        "# Encontrar los índices de los 5 valores más altos de la medida de silueta\n",
        "top_5_indices = np.argsort(silhouette_scores)[-5:]  # Obtiene los índices de los 5 máximos\n",
        "top_5_indices.sort()  # Ordenar para etiquetar en el orden correcto\n",
        "\n",
        "# Crear una tabla con los mejores 5 clusters\n",
        "top_5_clusters = [index + 2 for index in top_5_indices]  # Ajustar los números de clusters\n",
        "top_5_values = [silhouette_scores[index] for index in top_5_indices]  # Valores de la medida de silueta\n",
        "\n",
        "# Agregar la tabla al gráfico\n",
        "table_data = [[\"Número de Clusters\", \"Medida de Silueta\"]] + list(zip(top_5_clusters, top_5_values))\n",
        "table = plt.table(cellText=table_data, colLabels=None, cellLoc='center', loc='right', bbox=[1.05, 0.1, 0.4, 0.8])\n",
        "\n",
        "# Formato de la tabla\n",
        "table.auto_set_font_size(False)\n",
        "table.set_fontsize(10)\n",
        "table.scale(1.5, 1.5)\n",
        "\n",
        "plt.show()"
      ],
      "metadata": {
        "id": "1zsKLiFns_Gq"
      },
      "execution_count": null,
      "outputs": []
    },
    {
      "cell_type": "markdown",
      "source": [
        "APLICACION DE K MEANS"
      ],
      "metadata": {
        "id": "wbss1EYNtEIi"
      }
    },
    {
      "cell_type": "code",
      "source": [
        "# Realizar el clustering K-Means con un número determinado de clusters\n",
        "kmeans = KMeans(n_clusters=118, random_state=42)\n",
        "kmeans.fit(X_scaled)"
      ],
      "metadata": {
        "id": "wDh64l80tGTE"
      },
      "execution_count": null,
      "outputs": []
    },
    {
      "cell_type": "markdown",
      "source": [
        "AÑADIR ETIQUETAS AL CONJUNTO DE DATOS DE MOTORES UNICOS"
      ],
      "metadata": {
        "id": "w7Z6wBKetJkC"
      }
    },
    {
      "cell_type": "code",
      "source": [
        "# Obtener las etiquetas de cluster para cada motor\n",
        "motores_unicos['Cluster'] = kmeans.labels_\n",
        "\n",
        "# Imprimir el DataFrame con la columna 'Cluster' agregada\n",
        "print(motores_unicos)"
      ],
      "metadata": {
        "id": "bPXpvN36tJPj"
      },
      "execution_count": null,
      "outputs": []
    },
    {
      "cell_type": "markdown",
      "source": [
        "# METRICAS DE DESEMPEÑO"
      ],
      "metadata": {
        "id": "R7qmrHuythi8"
      }
    },
    {
      "cell_type": "code",
      "source": [
        "# Inercia\n",
        "# Índice de Silueta\n",
        "# Criterio de Davies-Bouldin\n",
        "# Coeficiente de Calinski-Harabasz\n",
        "\n",
        "# Calcular las métricas de desempeño\n",
        "from sklearn.metrics import silhouette_score, davies_bouldin_score\n",
        "silhouette_avg = silhouette_score(X_scaled, kmeans.labels_)\n",
        "davies_bouldin_idx = davies_bouldin_score(X_scaled, kmeans.labels_)\n",
        "\n",
        "# Calcular la inercia\n",
        "inertia = kmeans.inertia_\n",
        "\n",
        "# Calcular el coeficiente de Calinski-Harabasz\n",
        "from sklearn.metrics import calinski_harabasz_score\n",
        "calinski_harabasz = calinski_harabasz_score(X_scaled, kmeans.labels_)\n",
        "\n",
        "# Crear una tabla con las métricas de desempeño\n",
        "metricas = pd.DataFrame({\n",
        "    'Métrica': ['Inercia', 'Silhouette Score', 'Davies-Bouldin Index', 'Calinski-Harabasz Score'],\n",
        "    'Valor': [inertia, silhouette_avg, davies_bouldin_idx, calinski_harabasz]\n",
        "})\n",
        "\n",
        "print(metricas)"
      ],
      "metadata": {
        "id": "gNi7OBF2tk96"
      },
      "execution_count": null,
      "outputs": []
    },
    {
      "cell_type": "markdown",
      "source": [
        "# VISUALIZACIÓN DE CLUSTERS"
      ],
      "metadata": {
        "id": "E0ja9N8ntl3K"
      }
    },
    {
      "cell_type": "markdown",
      "source": [
        "GRAFICOS 2D"
      ],
      "metadata": {
        "id": "mr1T1jiguBj6"
      }
    },
    {
      "cell_type": "code",
      "source": [
        "plt.figure(figsize=(10, 8))\n",
        "\n",
        "# Usar un mapa de colores con más variedad\n",
        "cmap = plt.get_cmap('rainbow', 116)\n",
        "\n",
        "# Usar diferentes marcadores (repetidos)\n",
        "#markers = ['o', 's', 'v', '^', '<', '>', 'p', '*', 'D', 'h']\n",
        "markers = ['o', 's', 'v', '^', '<', '>', 'p', '*', 'D', 'h', '+', 'x','X']\n",
        "\n",
        "for cluster in range(116):\n",
        "    cluster_data = motores_unicos[motores_unicos['Cluster'] == cluster]\n",
        "    plt.scatter(cluster_data['R.P.M'], cluster_data['POTENCIA (HP)'],\n",
        "                c=[cmap(cluster)], label=f'Cluster {cluster}',\n",
        "                marker=markers[cluster % len(markers)], alpha=0.7)\n",
        "\n",
        "plt.xlabel('R.P.M')\n",
        "plt.ylabel('Potencia (HP)')\n",
        "plt.title('Clustering K-Means de Motores Únicos')\n",
        "#plt.grid(True)  # Agregar una cuadrícula\n",
        "#plt.legend(loc='upper right', fontsize='small', ncol=3)  # Leyenda más compacta\n",
        "plt.show()\n"
      ],
      "metadata": {
        "id": "lPXvuARptsmK"
      },
      "execution_count": null,
      "outputs": []
    },
    {
      "cell_type": "code",
      "source": [
        "plt.figure(figsize=(10, 8))\n",
        "\n",
        "# Usar un mapa de colores con más variedad\n",
        "cmap = plt.get_cmap('rainbow', 116)\n",
        "\n",
        "# Usar diferentes marcadores\n",
        "markers = ['o', 's', 'v', '^', '<', '>', 'p', '*', 'D', 'h', '+', 'x','X','H','D']\n",
        "for cluster in range(116):\n",
        "    cluster_data = motores_unicos[motores_unicos['Cluster'] == cluster]\n",
        "    # Calcula la cantidad de registros en el cluster actual\n",
        "    cluster_size = len(cluster_data)\n",
        "\n",
        "    # Mostrar solo los clusters con más de 2 registros\n",
        "    if cluster_size > 2:\n",
        "        plt.scatter(cluster_data['R.P.M'], cluster_data['POTENCIA (HP)'],\n",
        "                    c=[cmap(cluster)], label=f'Cluster {cluster} (n={cluster_size})',  # Agrega la cantidad de registros a la etiqueta\n",
        "                    marker=markers[cluster % len(markers)], alpha=0.7)\n",
        "\n",
        "plt.xlabel('R.P.M')\n",
        "plt.ylabel('Potencia (HP)')\n",
        "plt.title('Clustering K-Means de Motores Únicos (Clusters con más de 2 registros)')\n",
        "plt.grid(True)  # Agregar una cuadrícula\n",
        "\n",
        "# Colocar la leyenda al lado derecho del gráfico\n",
        "plt.legend(loc='center left', bbox_to_anchor=(1, 0.5), fontsize='small', ncol=1)  # Leyenda al lado del gráfico\n",
        "\n",
        "plt.tight_layout()  # Ajustar el layout para evitar solapamientos\n",
        "plt.show()"
      ],
      "metadata": {
        "id": "vrZSBStZt80b"
      },
      "execution_count": null,
      "outputs": []
    },
    {
      "cell_type": "markdown",
      "source": [
        "GRAFICOS 3D"
      ],
      "metadata": {
        "id": "ETPYYoMDuEv6"
      }
    },
    {
      "cell_type": "code",
      "source": [
        "from sklearn.preprocessing import LabelEncoder\n",
        "\n",
        "# Crear un LabelEncoder\n",
        "le = LabelEncoder()\n",
        "# Ajustar y transformar la columna 'FRAME' a una representación numérica\n",
        "motores_unicos['FRAME_codificado'] = le.fit_transform(motores_unicos['FRAME'])"
      ],
      "metadata": {
        "id": "od6XI4hGvvpS"
      },
      "execution_count": 12,
      "outputs": []
    },
    {
      "cell_type": "code",
      "source": [
        "\n",
        "from mpl_toolkits.mplot3d import Axes3D\n",
        "import matplotlib.pyplot as plt\n",
        "import numpy as np\n",
        "\n",
        "fig = plt.figure(figsize=(14, 12))\n",
        "ax = fig.add_subplot(111, projection='3d')\n",
        "\n",
        "# Lista de marcadores y colores para cada cluster\n",
        "markers = ['o', 's', 'v', '^', '<', '>', 'p', '*', 'D', 'h', '+', 'x','X']\n",
        "colors = plt.cm.get_cmap('gist_ncar', 116)  # Puedes usar otro mapa de colores\n",
        "\n",
        "for cluster in range(116):\n",
        "    cluster_data = motores_unicos[motores_unicos['Cluster'] == cluster]\n",
        "    ax.scatter(cluster_data['POTENCIA (HP)'],\n",
        "               cluster_data['R.P.M'],\n",
        "               cluster_data['FRAME_codificado'],\n",
        "               c=[colors(cluster)],\n",
        "               marker=markers[cluster % len(markers)],\n",
        "               label=f'Cluster {cluster}')\n",
        "\n",
        "\n",
        "ax.set_xlabel('Potencia (HP)')\n",
        "ax.set_ylabel('RPM')\n",
        "ax.set_zlabel('FRAME Codificado')\n",
        "\n",
        "# Agregar leyenda para los clusters\n",
        "#plt.legend(loc='upper left', fontsize='small', ncol=3)\n",
        "\n",
        "plt.title('Gráfico de Dispersión 3D: Potencia, RPM, FRAME y Cluster')\n",
        "\n",
        "plt.show()"
      ],
      "metadata": {
        "id": "zJ9jdftJuHPy"
      },
      "execution_count": null,
      "outputs": []
    },
    {
      "cell_type": "code",
      "source": [
        "fig = plt.figure(figsize=(10, 8))\n",
        "ax = fig.add_subplot(111, projection='3d')\n",
        "\n",
        "# Lista de marcadores y colores para cada cluster\n",
        "#markers = ['o', 's', 'v', '^', '<', '>', 'p', '*', 'D', 'h']\n",
        "markers = ['o', 's', 'v', '^', '<', '>', 'p', '*', 'D', 'h', '+', 'x','X']\n",
        "colors = plt.cm.get_cmap('nipy_spectral', 116)  # Puedes usar otro mapa de colores\n",
        "\n",
        "for cluster in range(116):\n",
        "    cluster_data = motores_unicos[motores_unicos['Cluster'] == cluster]\n",
        "    cluster_size = len(cluster_data)\n",
        "\n",
        "    if cluster_size > 2:\n",
        "        ax.scatter(cluster_data['POTENCIA (HP)'],\n",
        "                   cluster_data['R.P.M'],\n",
        "                   cluster_data['FRAME_codificado'],\n",
        "                   c=[colors(cluster)],\n",
        "                   marker=markers[cluster % len(markers)],\n",
        "                   label=f'Cluster {cluster} (n={cluster_size})')  # Agrega la cantidad de registros a la etiqueta\n",
        "ax.set_xlabel('Potencia (HP)')\n",
        "ax.set_ylabel('RPM')\n",
        "ax.set_zlabel('FRAME Codificado')\n",
        "\n",
        "# Agregar leyenda para los clusters\n",
        "plt.legend(loc='center left', bbox_to_anchor=(1.1, 0.5), fontsize='small', ncol=1)  # Leyenda al lado del gráfico\n",
        "\n",
        "plt.title('Gráfico de Dispersión 3D: Potencia, RPM, FRAME y Cluster (Clusters > 2 registros)')\n",
        "\n",
        "plt.show()"
      ],
      "metadata": {
        "id": "A0ecMAn5uO7t"
      },
      "execution_count": null,
      "outputs": []
    },
    {
      "cell_type": "markdown",
      "source": [
        "# EVALUACIÓN ESTADISTICA DEL AGRUPAMIENTO DE DATOS"
      ],
      "metadata": {
        "id": "iOPWPrcVttBy"
      }
    },
    {
      "cell_type": "code",
      "source": [
        "# Crear una lista para almacenar las estadísticas de cada cluster\n",
        "cluster_stats_list = []\n",
        "\n",
        "for cluster_num in range(116):  # Iterar a través de todos los clusters\n",
        "  cluster_data = motores_unicos[motores_unicos['Cluster'] == cluster_num]\n",
        "  cluster_size = len(cluster_data)\n",
        "\n",
        "  if cluster_size > 2:\n",
        "    rpm_variance = cluster_data['R.P.M'].var()\n",
        "    rpm_std_dev = cluster_data['R.P.M'].std()\n",
        "    power_variance = cluster_data['POTENCIA (HP)'].var()\n",
        "    power_std_dev = cluster_data['POTENCIA (HP)'].std()\n",
        "\n",
        "    cluster_stats_list.append([\n",
        "        cluster_num, cluster_size, rpm_variance, rpm_std_dev, power_variance,\n",
        "        power_std_dev\n",
        "    ])\n",
        "\n",
        "# Crear un DataFrame con las estadísticas de cada cluster\n",
        "cluster_stats_df = pd.DataFrame(\n",
        "    cluster_stats_list,\n",
        "    columns=[\n",
        "        'Cluster', 'Tamaño', 'Varianza RPM', 'Desviación Estándar RPM',\n",
        "        'Varianza Potencia', 'Desviación Estándar Potencia'\n",
        "    ])\n",
        "\n",
        "# Imprimir la tabla de métricas estadísticas de todos los clusters con más de 2 registros\n",
        "print(\n",
        "    tabulate(cluster_stats_df,\n",
        "             headers='keys',\n",
        "             tablefmt='fancy_grid',\n",
        "             floatfmt=\".4f\"))"
      ],
      "metadata": {
        "id": "Jdfvj1g2uU_C"
      },
      "execution_count": null,
      "outputs": []
    },
    {
      "cell_type": "code",
      "source": [
        "# Contar cuántos motores tienen desviación estándar y varianza 0 en RPM y Potencia\n",
        "motores_cero_desv_var = cluster_stats_df[\n",
        "    (cluster_stats_df['Desviación Estándar RPM'] == 0) &\n",
        "    (cluster_stats_df['Desviación Estándar Potencia'] == 0) &\n",
        "    (cluster_stats_df['Varianza RPM'] == 0) &\n",
        "    (cluster_stats_df['Varianza Potencia'] == 0)\n",
        "]\n",
        "cantidad_motores_cero_desv_var = len(motores_cero_desv_var)\n",
        "\n",
        "# Contar cuántos motores NO tienen desviación estándar y varianza 0 en RPM y Potencia\n",
        "motores_no_cero_desv_var = cluster_stats_df[\n",
        "    (cluster_stats_df['Desviación Estándar RPM'] != 0) |\n",
        "    (cluster_stats_df['Desviación Estándar Potencia'] != 0) |\n",
        "    (cluster_stats_df['Varianza RPM'] != 0) |\n",
        "    (cluster_stats_df['Varianza Potencia'] != 0)\n",
        "]\n",
        "cantidad_motores_no_cero_desv_var = len(motores_no_cero_desv_var)\n",
        "\n",
        "# Crear una tabla resumen\n",
        "tabla_resumen = pd.DataFrame({\n",
        "    'Descripción': ['Motores con desviación y varianza 0', 'Motores con desviación y varianza diferente de 0'],\n",
        "    'Cantidad': [cantidad_motores_cero_desv_var, cantidad_motores_no_cero_desv_var]\n",
        "})\n",
        "\n",
        "# Imprimir la tabla resumen\n",
        "print(tabulate(tabla_resumen, headers='keys', tablefmt='fancy_grid'))"
      ],
      "metadata": {
        "id": "W_tst_3LuV46"
      },
      "execution_count": null,
      "outputs": []
    },
    {
      "cell_type": "code",
      "source": [
        "# prompt: sacar promedio de desviacion estandar\n",
        "\n",
        "# Calcular el promedio de la desviación estándar de RPM y Potencia para todos los clusters\n",
        "promedio_desv_estandar_rpm = cluster_stats_df['Desviación Estándar RPM'].mean()\n",
        "promedio_desv_estandar_potencia = cluster_stats_df['Desviación Estándar Potencia'].mean()\n",
        "\n",
        "print(f\"Promedio de la desviación estándar de RPM: {promedio_desv_estandar_rpm:.4f}\")\n",
        "print(f\"Promedio de la desviación estándar de Potencia: {promedio_desv_estandar_potencia:.4f}\")"
      ],
      "metadata": {
        "id": "MnrrohFoxGYf"
      },
      "execution_count": null,
      "outputs": []
    },
    {
      "cell_type": "code",
      "source": [
        "#cantidad de registros por cluster y ordenar cantidades de mayor a menor\n",
        "\n",
        "# Contar la cantidad de registros por cluster y ordenarlos de mayor a menor\n",
        "cluster_counts = motores_unicos['Cluster'].value_counts().sort_values(ascending=False)\n",
        "\n",
        "# Imprimir la tabla de conteo de clusters\n",
        "print(tabulate(cluster_counts.reset_index().rename(columns={'index': 'Cluster', 'Cluster': 'Cluster'}), headers='keys', tablefmt='fancy_grid'))\n",
        "\n",
        "# Crear un gráfico de barras para visualizar la cantidad de registros por cluster\n",
        "plt.figure(figsize=(12, 6))\n",
        "plt.bar(cluster_counts.index, cluster_counts.values)\n",
        "plt.xlabel('Cluster')\n",
        "plt.ylabel('Cantidad de Registros')\n",
        "plt.title('Cantidad de Registros por Cluster')\n",
        "plt.xticks(rotation=90)  # Rotar las etiquetas del eje x si hay demasiados clusters\n",
        "plt.tight_layout()\n",
        "plt.show()"
      ],
      "metadata": {
        "id": "tOz2bEgxwqdf"
      },
      "execution_count": null,
      "outputs": []
    },
    {
      "cell_type": "code",
      "source": [
        "#cuantos cluster tienen solo un registro(motores que no fueron posibles agrupar)\n",
        "\n",
        "# Contar la cantidad de clusters con solo un registro\n",
        "cluster_counts = motores_unicos['Cluster'].value_counts()\n",
        "clusters_with_one_record = (cluster_counts == 1).sum()\n",
        "\n",
        "print(f\"Hay {clusters_with_one_record} clusters con solo un registro.\")"
      ],
      "metadata": {
        "id": "w9OgIjJNw7EH"
      },
      "execution_count": null,
      "outputs": []
    },
    {
      "cell_type": "code",
      "source": [
        "# Crear gráfico de líneas\n",
        "plt.figure(figsize=(15, 8))\n",
        "\n",
        "# Gráficas de línea para cada métrica\n",
        "plt.plot(cluster_stats_df['Cluster'], cluster_stats_df['Desviación Estándar RPM'], label='Desviación Estándar RPM', marker='o')\n",
        "plt.plot(cluster_stats_df['Cluster'], cluster_stats_df['Desviación Estándar Potencia'], label='Desviación Estándar Potencia', marker='o')\n",
        "\n",
        "# Encontrar máximos y sus índices\n",
        "max_rpm_std = cluster_stats_df['Desviación Estándar RPM'].max()\n",
        "max_rpm_std_cluster = cluster_stats_df['Cluster'][cluster_stats_df['Desviación Estándar RPM'].idxmax()]\n",
        "\n",
        "max_power_std = cluster_stats_df['Desviación Estándar Potencia'].max()\n",
        "max_power_std_cluster = cluster_stats_df['Cluster'][cluster_stats_df['Desviación Estándar Potencia'].idxmax()]\n",
        "\n",
        "# Etiquetar los máximos\n",
        "plt.annotate(f'Máximo: {max_rpm_std:.2f}\\nCluster: {max_rpm_std_cluster}',\n",
        "             xy=(max_rpm_std_cluster, max_rpm_std),\n",
        "             xytext=(max_rpm_std_cluster, max_rpm_std + 0.5),\n",
        "             arrowprops=dict(facecolor='black', arrowstyle='->'))\n",
        "\n",
        "plt.annotate(f'Máximo: {max_power_std:.2f}\\nCluster: {max_power_std_cluster}',\n",
        "             xy=(max_power_std_cluster, max_power_std),\n",
        "             xytext=(max_power_std_cluster, max_power_std + 0.5),\n",
        "             arrowprops=dict(facecolor='black', arrowstyle='->'))\n",
        "\n",
        "# Etiquetas y leyendas\n",
        "plt.xlabel('Cluster')\n",
        "plt.ylabel('Valor de Métrica')\n",
        "plt.title('Métricas Estadísticas por Cluster (más de 2 registros)')\n",
        "plt.legend()\n",
        "plt"
      ],
      "metadata": {
        "id": "oqNF1pItuZMK"
      },
      "execution_count": null,
      "outputs": []
    },
    {
      "cell_type": "markdown",
      "source": [
        "DESCARGAR DATA"
      ],
      "metadata": {
        "id": "mcpWk5m7F0R0"
      }
    },
    {
      "cell_type": "code",
      "source": [
        "# Descargar motores únicos con la columna 'Cluster' incluida\n",
        "motores_unicos.to_excel('motores_unicos_con_cluster.xlsx', index=False)  # Ajusta el nombre del archivo si lo deseas\n",
        "from google.colab import files\n",
        "files.download('motores_unicos_con_cluster.xlsx')"
      ],
      "metadata": {
        "colab": {
          "base_uri": "https://localhost:8080/",
          "height": 17
        },
        "id": "PD42L3bpyKBe",
        "outputId": "23bd3a44-a2d7-4e62-cca6-8456681da67a"
      },
      "execution_count": 23,
      "outputs": [
        {
          "output_type": "display_data",
          "data": {
            "text/plain": [
              "<IPython.core.display.Javascript object>"
            ],
            "application/javascript": [
              "\n",
              "    async function download(id, filename, size) {\n",
              "      if (!google.colab.kernel.accessAllowed) {\n",
              "        return;\n",
              "      }\n",
              "      const div = document.createElement('div');\n",
              "      const label = document.createElement('label');\n",
              "      label.textContent = `Downloading \"${filename}\": `;\n",
              "      div.appendChild(label);\n",
              "      const progress = document.createElement('progress');\n",
              "      progress.max = size;\n",
              "      div.appendChild(progress);\n",
              "      document.body.appendChild(div);\n",
              "\n",
              "      const buffers = [];\n",
              "      let downloaded = 0;\n",
              "\n",
              "      const channel = await google.colab.kernel.comms.open(id);\n",
              "      // Send a message to notify the kernel that we're ready.\n",
              "      channel.send({})\n",
              "\n",
              "      for await (const message of channel.messages) {\n",
              "        // Send a message to notify the kernel that we're ready.\n",
              "        channel.send({})\n",
              "        if (message.buffers) {\n",
              "          for (const buffer of message.buffers) {\n",
              "            buffers.push(buffer);\n",
              "            downloaded += buffer.byteLength;\n",
              "            progress.value = downloaded;\n",
              "          }\n",
              "        }\n",
              "      }\n",
              "      const blob = new Blob(buffers, {type: 'application/binary'});\n",
              "      const a = document.createElement('a');\n",
              "      a.href = window.URL.createObjectURL(blob);\n",
              "      a.download = filename;\n",
              "      div.appendChild(a);\n",
              "      a.click();\n",
              "      div.remove();\n",
              "    }\n",
              "  "
            ]
          },
          "metadata": {}
        },
        {
          "output_type": "display_data",
          "data": {
            "text/plain": [
              "<IPython.core.display.Javascript object>"
            ],
            "application/javascript": [
              "download(\"download_5a320386-a953-48c0-8c5a-f515261c4f8d\", \"motores_unicos_con_cluster.xlsx\", 17909)"
            ]
          },
          "metadata": {}
        }
      ]
    }
  ]
}