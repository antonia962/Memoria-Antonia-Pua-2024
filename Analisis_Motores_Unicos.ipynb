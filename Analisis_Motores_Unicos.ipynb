{
  "nbformat": 4,
  "nbformat_minor": 0,
  "metadata": {
    "colab": {
      "provenance": []
    },
    "kernelspec": {
      "name": "python3",
      "display_name": "Python 3"
    },
    "language_info": {
      "name": "python"
    }
  },
  "cells": [
    {
      "cell_type": "code",
      "execution_count": 1,
      "metadata": {
        "id": "Qaxz-Rpcgrnz"
      },
      "outputs": [],
      "source": [
        "import pandas as pd\n",
        "import matplotlib.pyplot as plt\n",
        "import numpy as np\n",
        "import seaborn as sns"
      ]
    },
    {
      "cell_type": "code",
      "source": [
        "motores_unicos = pd.read_excel('/content/Motores_Unicos.xlsx')"
      ],
      "metadata": {
        "id": "2bPtbcJ_g_hA"
      },
      "execution_count": 2,
      "outputs": []
    },
    {
      "cell_type": "code",
      "source": [
        "print(motores_unicos)"
      ],
      "metadata": {
        "id": "JzNw89gChHjv"
      },
      "execution_count": null,
      "outputs": []
    },
    {
      "cell_type": "markdown",
      "source": [
        "# Analisis Descriptivos"
      ],
      "metadata": {
        "id": "vfy5P_Gqcj4i"
      }
    },
    {
      "cell_type": "code",
      "source": [
        "# Calcular los estadísticos importantes\n",
        "potencia_hp = motores_unicos['POTENCIA (HP)']\n",
        "median_hp = potencia_hp.median()\n",
        "mean_hp = potencia_hp.mean()\n",
        "q1_hp = potencia_hp.quantile(0.25)\n",
        "q3_hp = potencia_hp.quantile(0.75)\n",
        "\n",
        "# Crear el diagrama de caja\n",
        "plt.figure(figsize=(10, 6))\n",
        "sns.boxplot(x='POTENCIA (HP)', data=motores_unicos)\n",
        "\n",
        "# Título y etiquetas\n",
        "plt.title('Diagrama de Caja de Potencia (HP) de Motores Únicos', fontsize=14, fontweight='bold')\n",
        "plt.xlabel('Potencia (HP)', fontsize=12, fontweight='bold')\n",
        "\n",
        "# Anotar la media, mediana y cuartiles en el gráfico\n",
        "plt.text(mean_hp, 0.1, f'Media: {mean_hp:.2f}', ha='center', va='center', color='black', fontsize=10)\n",
        "plt.text(median_hp, 0.15, f'Mediana: {median_hp:.2f}', ha='center', va='center', color='blue', fontsize=10)\n",
        "plt.text(q1_hp, 0.15, f'Q1: {q1_hp:.2f}', ha='center', va='center', color='purple', fontsize=10)\n",
        "plt.text(q3_hp, 0.15, f'Q3: {q3_hp:.2f}', ha='center', va='center', color='purple', fontsize=10)\n",
        "\n",
        "# Mostrar el gráfico\n",
        "plt.tight_layout()\n",
        "plt.show()\n"
      ],
      "metadata": {
        "id": "9egtfDQSceJJ"
      },
      "execution_count": null,
      "outputs": []
    },
    {
      "cell_type": "code",
      "source": [
        "# Calcular los estadísticos importantes\n",
        "rpm = motores_unicos['R.P.M']\n",
        "median_rpm = rpm.median()\n",
        "mean_rpm = rpm.mean()\n",
        "q1_rpm = rpm.quantile(0.25)\n",
        "q3_rpm = rpm.quantile(0.75)\n",
        "\n",
        "# Crear el diagrama de caja\n",
        "plt.figure(figsize=(10, 6))\n",
        "sns.boxplot(x='R.P.M', data=motores_unicos)\n",
        "\n",
        "# Título y etiquetas\n",
        "plt.title('Diagrama de Caja de R.P.M de Motores Únicos', fontsize=14, fontweight='bold')\n",
        "plt.xlabel('R.P.M', fontsize=12, fontweight='bold')\n",
        "\n",
        "# Anotar la media, mediana y cuartiles en el gráfico\n",
        "plt.text(mean_rpm, 0.1, f'Media: {mean_rpm:.2f}', ha='center', va='center', color='black', fontsize=10)\n",
        "plt.text(median_rpm, 0.15, f'Mediana: {median_rpm:.2f}', ha='center', va='center', color='blue', fontsize=10)\n",
        "\n",
        "# Mostrar el gráfico\n",
        "plt.tight_layout()\n",
        "plt.show()"
      ],
      "metadata": {
        "id": "nmXR1Qewc1jx",
        "collapsed": true
      },
      "execution_count": null,
      "outputs": []
    },
    {
      "cell_type": "code",
      "source": [
        "\n",
        "# Contar valores únicos en la columna 'VOLTAJE'\n",
        "voltaje_counts = motores_unicos['VOLTAJE'].value_counts()\n",
        "\n",
        "# Imprimir los conteos\n",
        "print(voltaje_counts)\n",
        "\n",
        "# Crear un gráfico de barras para visualizar los conteos\n",
        "plt.figure(figsize=(10, 6))\n",
        "voltaje_counts.plot(kind='bar')\n",
        "plt.title('Conteo de valores únicos en la columna Voltaje', fontsize=14, fontweight='bold')\n",
        "plt.xlabel('Voltaje', fontsize=12, fontweight='bold')\n",
        "plt.ylabel('Frecuencia', fontsize=12, fontweight='bold')\n",
        "plt.xticks(rotation=45, ha='right')  # Rotar las etiquetas del eje x para mejor legibilidad\n",
        "plt.tight_layout()\n",
        "plt.show()"
      ],
      "metadata": {
        "id": "KrGtilrrkURe"
      },
      "execution_count": null,
      "outputs": []
    },
    {
      "cell_type": "markdown",
      "source": [
        "# Distribuciones Numericas"
      ],
      "metadata": {
        "id": "BmabMlD8dL9I"
      }
    },
    {
      "cell_type": "code",
      "source": [
        "\n",
        "# Crear el histograma de la columna 'POTENCIA (HP)' para los motores únicos\n",
        "plt.figure(figsize=(10, 6))  # Ajustar el tamaño de la figura\n",
        "sns.histplot(motores_unicos['POTENCIA (HP)'], kde=True, bins=10)\n",
        "plt.title('Distribución de Potencia (HP) de Motores Únicos')\n",
        "plt.xlabel('Potencia (HP)')\n",
        "plt.ylabel('Frecuencia')\n",
        "# Agregar etiquetas con la cantidad en cada barra\n",
        "for p in plt.gca().patches:\n",
        "    plt.gca().text(p.get_x() + p.get_width() / 2., p.get_height(), '%d' % int(p.get_height()),\n",
        "                ha='center', va='bottom', fontsize=10)\n",
        "plt.show()\n"
      ],
      "metadata": {
        "id": "OwAnwHyRXlkj"
      },
      "execution_count": null,
      "outputs": []
    },
    {
      "cell_type": "code",
      "source": [
        "# Crear el histograma de la columna 'R.P.M' para los motores únicos\n",
        "plt.figure(figsize=(10, 6))\n",
        "sns.histplot(motores_unicos['R.P.M'], kde=True, bins=10)\n",
        "plt.title('Distribución de RPM de Motores Únicos')\n",
        "plt.xlabel('RPM')\n",
        "plt.ylabel('Frecuencia')\n",
        "# Agregar etiquetas con la cantidad en cada barra\n",
        "for p in plt.gca().patches:\n",
        "    plt.gca().text(p.get_x() + p.get_width() / 2., p.get_height(), '%d' % int(p.get_height()),\n",
        "                ha='center', va='bottom', fontsize=10)\n",
        "plt.show()\n",
        "\n"
      ],
      "metadata": {
        "id": "uFg2qSbXdV-T"
      },
      "execution_count": null,
      "outputs": []
    },
    {
      "cell_type": "markdown",
      "source": [
        "# Graficos con Categorias"
      ],
      "metadata": {
        "id": "ksiTFkxJd1fR"
      }
    },
    {
      "cell_type": "code",
      "source": [
        "# Contar la cantidad de motores por marca\n",
        "marca_counts = motores_unicos['MARCA '].value_counts()\n",
        "\n",
        "# Configuración general del gráfico\n",
        "plt.figure(figsize=(12, 6))\n",
        "sns.set_style(\"whitegrid\")  # Estilo de fondo más elegante\n",
        "\n",
        "# Crear gráfico de barras con colores gradientes\n",
        "bars = sns.barplot(x=marca_counts.index, y=marca_counts.values, palette=\"viridis\")\n",
        "\n",
        "# Agregar etiquetas de valor en cada barra\n",
        "for bar in bars.patches:\n",
        "    yval = bar.get_height()\n",
        "    bars.text(bar.get_x() + bar.get_width()/2, yval, int(yval), ha='center', va='bottom', fontsize=10, fontweight='bold')\n",
        "\n",
        "# Etiquetas y título\n",
        "plt.xlabel('Marca', fontsize=12, fontweight='bold')\n",
        "plt.ylabel('Cantidad de Motores', fontsize=12, fontweight='bold')\n",
        "plt.title('Cantidad de Motores por Marca', fontsize=14, fontweight='bold')\n",
        "\n",
        "# Rotación de las etiquetas del eje x para mejor legibilidad\n",
        "plt.xticks(rotation=45, ha='right', fontsize=10)\n",
        "\n",
        "# Ajuste de los márgenes y presentación final\n",
        "plt.tight_layout()\n",
        "plt.show()"
      ],
      "metadata": {
        "id": "6QvU5NnJWRfD"
      },
      "execution_count": null,
      "outputs": []
    },
    {
      "cell_type": "code",
      "source": [
        "#Crear un histograma de la distribución de FRAME para motores con más de un motor\n",
        "plt.figure(figsize=(12, 6))\n",
        "sns.histplot(motores_unicos[motores_unicos['CANTIDAD'] > 1]['FRAME'], kde=False, bins=20)\n",
        "plt.title('Distribución de FRAME para Motores con más de 1 motor')\n",
        "plt.xlabel('FRAME')\n",
        "plt.ylabel('Frecuencia')\n",
        "plt.xticks(rotation=45, ha='right')\n",
        "plt.tight_layout()\n",
        "plt.show()"
      ],
      "metadata": {
        "id": "mm2Bemp-ePOK"
      },
      "execution_count": null,
      "outputs": []
    },
    {
      "cell_type": "markdown",
      "source": [
        "# Gráficos de dispersión 2D Y 3D"
      ],
      "metadata": {
        "id": "PPqAAfd4deea"
      }
    },
    {
      "cell_type": "code",
      "source": [
        "# Gráfico de dispersión de Potencia vs RPM con colores por FRAME\n",
        "plt.figure(figsize=(10, 6))\n",
        "\n",
        "# Crear una lista de colores únicos para cada FRAME\n",
        "frames = motores_unicos['FRAME'].unique()\n",
        "num_frames = len(frames)\n",
        "colors = plt.cm.get_cmap('viridis', num_frames)\n",
        "\n",
        "# Iterar sobre los FRAME y graficar los puntos con colores diferentes\n",
        "for i, frame in enumerate(frames):\n",
        "  subset = motores_unicos[motores_unicos['FRAME'] == frame]\n",
        "  plt.scatter(subset['POTENCIA (HP)'], subset['R.P.M'], label=frame, color=colors(i))\n",
        "\n",
        "plt.title('Relación entre Potencia y RPM de Motores Únicos (Colores por FRAME)')\n",
        "plt.xlabel('Potencia (HP)')\n",
        "plt.ylabel('RPM')\n",
        "plt.legend(title='FRAME', bbox_to_anchor=(1.05, 1), loc='upper left', ncol=3)\n",
        "plt.show()"
      ],
      "metadata": {
        "id": "lt6H8EjUbU46"
      },
      "execution_count": null,
      "outputs": []
    },
    {
      "cell_type": "markdown",
      "source": [
        "GRAFICO EN 3D"
      ],
      "metadata": {
        "id": "HJi4TJw_XVvL"
      }
    },
    {
      "cell_type": "code",
      "source": [
        "from sklearn.preprocessing import LabelEncoder\n",
        "\n",
        "# Crear un LabelEncoder\n",
        "le = LabelEncoder()\n",
        "# Ajustar y transformar la columna 'FRAME' a una representación numérica\n",
        "motores_unicos['FRAME_codificado'] = le.fit_transform(motores_unicos['FRAME'])"
      ],
      "metadata": {
        "id": "EAfb-aCgjP_G"
      },
      "execution_count": 13,
      "outputs": []
    },
    {
      "cell_type": "code",
      "source": [
        "fig = plt.figure(figsize=(10, 8))\n",
        "ax = fig.add_subplot(111, projection='3d')\n",
        "\n",
        "# Create a list of unique frame values\n",
        "unique_frames = motores_unicos['FRAME'].unique()\n",
        "\n",
        "# Define a list of markers for each frame\n",
        "markers = ['o', '^', 's', 'D', 'v', '*', 'p', 'h']\n",
        "\n",
        "# Create a dictionary to map frame values to colors\n",
        "color_map = {frame: plt.cm.nipy_spectral(i / len(unique_frames)) for i, frame in enumerate(unique_frames)}\n",
        "\n",
        "for frame in unique_frames:\n",
        "    frame_data = motores_unicos[motores_unicos['FRAME'] == frame]\n",
        "\n",
        "    # Select a marker for the frame (looping through markers)\n",
        "    marker_index = unique_frames.tolist().index(frame) % len(markers)\n",
        "    marker = markers[marker_index]\n",
        "\n",
        "\n",
        "    # Scatter plot with color-encoding based on 'frame'\n",
        "    scatter = ax.scatter(frame_data['POTENCIA (HP)'],\n",
        "                         frame_data['R.P.M'],\n",
        "                         frame_data['FRAME_codificado'],\n",
        "                         c=[color_map[frame]] * len(frame_data),\n",
        "                         marker=marker,\n",
        "                         label=frame)\n",
        "\n",
        "\n",
        "ax.set_xlabel('Potencia (HP)')\n",
        "ax.set_ylabel('RPM')\n",
        "ax.set_zlabel('FRAME Codificado')\n",
        "\n",
        "# Add a legend to show the mapping of colors and markers to 'frame' values\n",
        "plt.legend(loc='center left', bbox_to_anchor=(1.1, 0.5), fontsize='small', ncol=2) # Ajusta la posición y el número de columnas\n",
        "\n",
        "plt.title('Gráfico de Dispersión 3D: Potencia, RPM y FRAME')\n",
        "\n",
        "plt.show()"
      ],
      "metadata": {
        "id": "L5PPQ46dTXqc"
      },
      "execution_count": null,
      "outputs": []
    },
    {
      "cell_type": "markdown",
      "source": [
        "# Tabla para conocer la relacion de FRAME_codificado y el FRAME real"
      ],
      "metadata": {
        "id": "zlFkof70XdPB"
      }
    },
    {
      "cell_type": "code",
      "source": [
        "# Crear una tabla de frames con frame codificado, frame y cantidad de registros\n",
        "tabla_frames = motores_unicos.groupby(['FRAME_codificado', 'FRAME'])['ID_Motor'].count().reset_index(name='Cantidad_Registros')\n",
        "\n",
        "print(tabla_frames)"
      ],
      "metadata": {
        "id": "Z0nuzMTO0Ypx"
      },
      "execution_count": null,
      "outputs": []
    },
    {
      "cell_type": "code",
      "source": [
        "# Print unique values of 'Cantidad_Registros'\n",
        "unique_cantidad_registros = tabla_frames['Cantidad_Registros'].unique()\n",
        "unique_cantidad_registros"
      ],
      "metadata": {
        "id": "rzsDs5VyXTNI"
      },
      "execution_count": null,
      "outputs": []
    },
    {
      "cell_type": "code",
      "source": [
        "#para conocer los frame\n",
        "lista_n = unique_cantidad_registros.tolist()\n",
        "\n",
        "for i in lista_n:\n",
        "  frames = tabla_frames[tabla_frames['Cantidad_Registros'] == i]\n",
        "  print(f\"frames con {i} registros\")\n",
        "  print(frames)\n"
      ],
      "metadata": {
        "id": "9yLPBoSWxtTc"
      },
      "execution_count": null,
      "outputs": []
    }
  ]
}