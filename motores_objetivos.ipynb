{
  "nbformat": 4,
  "nbformat_minor": 0,
  "metadata": {
    "colab": {
      "provenance": []
    },
    "kernelspec": {
      "name": "python3",
      "display_name": "Python 3"
    },
    "language_info": {
      "name": "python"
    }
  },
  "cells": [
    {
      "cell_type": "code",
      "source": [
        "import pandas as pd\n",
        "import matplotlib.pyplot as plt\n",
        "import numpy as np\n",
        "import seaborn as sns\n"
      ],
      "metadata": {
        "id": "Hwl6CI56SqP1"
      },
      "execution_count": 1,
      "outputs": []
    },
    {
      "cell_type": "markdown",
      "source": [
        "# Carga de consolidado y primer filtrado(segmento de voltaje con mas datos)"
      ],
      "metadata": {
        "id": "_fjY5nQtgDLz"
      }
    },
    {
      "cell_type": "markdown",
      "source": [
        "Subir consolidado"
      ],
      "metadata": {
        "id": "3wEOicLK4pXN"
      }
    },
    {
      "cell_type": "code",
      "execution_count": null,
      "metadata": {
        "id": "BYdOMh5RDOzj"
      },
      "outputs": [],
      "source": [
        "# Ruta del archivo Excel\n",
        "ruta_archivo = '/content/consolidado_motores.xlsx'\n",
        "\n",
        "# Cargar el archivo Excel en un DataFrame\n",
        "consolidado = pd.read_excel(ruta_archivo, sheet_name='Consolidado')\n",
        "print(f\"Total de motores en el consolidado: {len(consolidado)}\")"
      ]
    },
    {
      "cell_type": "markdown",
      "source": [
        "**Primer Filtrado**"
      ],
      "metadata": {
        "id": "vWh_SXoAf0DV"
      }
    },
    {
      "cell_type": "code",
      "source": [
        "# Filtrar el DataFrame para obtener solo los motores con voltaje entre 550 y 585\n",
        "consolidado2 = consolidado[(consolidado['SEG_VOLT'] == \"BAJO VOLTAJE 2(550-585)\")]\n",
        "print(f\"Total de motores en el consolidado con voltaje entre 550 y 585: {len(consolidado2)}\")"
      ],
      "metadata": {
        "id": "kgl1b4n7cQGF"
      },
      "execution_count": null,
      "outputs": []
    },
    {
      "cell_type": "markdown",
      "source": [
        "# Mapas de Calor Consolidado 2"
      ],
      "metadata": {
        "id": "zVHNO6J7geHl"
      }
    },
    {
      "cell_type": "code",
      "source": [
        "# Crear bins para la potencia\n",
        "bins = [0, 50, 100, 150, 200, float('inf')]\n",
        "labels = ['0-50', '50-100', '100-150', '150-200', '>200 HP']\n",
        "\n",
        "# Usar .loc para evitar el SettingWithCopyWarning\n",
        "consolidado2.loc[:, 'Rango_Potencia'] = pd.cut(consolidado2['POTENCIA (HP)'], bins=bins, labels=labels, include_lowest=True)\n",
        "\n",
        "# Crear una tabla pivote para el mapa de calor, especificando observed=False\n",
        "heatmap_data = consolidado2.pivot_table(index='Rango_Potencia', columns='Polos', values='POTENCIA (HP)', aggfunc='count', observed=False)\n",
        "\n",
        "# Crear el mapa de calor\n",
        "plt.figure(figsize=(10, 6))\n",
        "sns.heatmap(heatmap_data, annot=True, fmt=\".0f\", cmap=\"viridis\")\n",
        "plt.title('Mapa de Calor: Potencia vs Polos (BAJO VOLTAJE 2)')\n",
        "plt.xlabel('Polos')\n",
        "plt.ylabel('Rango de Potencia')\n",
        "plt.show()\n"
      ],
      "metadata": {
        "id": "aD0S3mGCkqDA"
      },
      "execution_count": null,
      "outputs": []
    },
    {
      "cell_type": "markdown",
      "source": [
        "# Filtrado 2 y final (Motores Objetivos)"
      ],
      "metadata": {
        "id": "6uV2SpZbgtRz"
      }
    },
    {
      "cell_type": "code",
      "source": [
        "motores_objetivos = consolidado2[\n",
        "    (consolidado2['POTENCIA (HP)'] <= 100) &\n",
        "    (consolidado2['Polos'] == 4)\n",
        "]\n",
        "\n",
        "print(f\"Total de motores objetivos:{len(motores_objetivos)}\")"
      ],
      "metadata": {
        "id": "Q_LO3GZmlQKV"
      },
      "execution_count": null,
      "outputs": []
    },
    {
      "cell_type": "code",
      "source": [
        "# Descargar motores objetivos\n",
        "motores_objetivos.to_excel('motores_objetivos.xlsx', index=False)\n",
        "from google.colab import files\n",
        "files.download('motores_objetivos.xlsx')"
      ],
      "metadata": {
        "colab": {
          "base_uri": "https://localhost:8080/",
          "height": 17
        },
        "id": "oh3EkAosG4qj",
        "outputId": "0fe3a97a-8d12-40d2-86a5-8214acf6dfe4"
      },
      "execution_count": 13,
      "outputs": [
        {
          "output_type": "display_data",
          "data": {
            "text/plain": [
              "<IPython.core.display.Javascript object>"
            ],
            "application/javascript": [
              "\n",
              "    async function download(id, filename, size) {\n",
              "      if (!google.colab.kernel.accessAllowed) {\n",
              "        return;\n",
              "      }\n",
              "      const div = document.createElement('div');\n",
              "      const label = document.createElement('label');\n",
              "      label.textContent = `Downloading \"${filename}\": `;\n",
              "      div.appendChild(label);\n",
              "      const progress = document.createElement('progress');\n",
              "      progress.max = size;\n",
              "      div.appendChild(progress);\n",
              "      document.body.appendChild(div);\n",
              "\n",
              "      const buffers = [];\n",
              "      let downloaded = 0;\n",
              "\n",
              "      const channel = await google.colab.kernel.comms.open(id);\n",
              "      // Send a message to notify the kernel that we're ready.\n",
              "      channel.send({})\n",
              "\n",
              "      for await (const message of channel.messages) {\n",
              "        // Send a message to notify the kernel that we're ready.\n",
              "        channel.send({})\n",
              "        if (message.buffers) {\n",
              "          for (const buffer of message.buffers) {\n",
              "            buffers.push(buffer);\n",
              "            downloaded += buffer.byteLength;\n",
              "            progress.value = downloaded;\n",
              "          }\n",
              "        }\n",
              "      }\n",
              "      const blob = new Blob(buffers, {type: 'application/binary'});\n",
              "      const a = document.createElement('a');\n",
              "      a.href = window.URL.createObjectURL(blob);\n",
              "      a.download = filename;\n",
              "      div.appendChild(a);\n",
              "      a.click();\n",
              "      div.remove();\n",
              "    }\n",
              "  "
            ]
          },
          "metadata": {}
        },
        {
          "output_type": "display_data",
          "data": {
            "text/plain": [
              "<IPython.core.display.Javascript object>"
            ],
            "application/javascript": [
              "download(\"download_15eb684a-d72b-42cb-af3b-ce0cdac59dd7\", \"motores_objetivos.xlsx\", 58631)"
            ]
          },
          "metadata": {}
        }
      ]
    }
  ]
}