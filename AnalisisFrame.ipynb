{
  "nbformat": 4,
  "nbformat_minor": 0,
  "metadata": {
    "colab": {
      "provenance": []
    },
    "kernelspec": {
      "name": "python3",
      "display_name": "Python 3"
    },
    "language_info": {
      "name": "python"
    }
  },
  "cells": [
    {
      "cell_type": "code",
      "source": [
        "import pandas as pd\n",
        "import matplotlib.pyplot as plt\n",
        "import numpy as np\n",
        "import seaborn as sns"
      ],
      "metadata": {
        "id": "tjf3X89LuXpQ"
      },
      "execution_count": null,
      "outputs": []
    },
    {
      "cell_type": "code",
      "execution_count": null,
      "metadata": {
        "id": "SX6YPAnKuWhR"
      },
      "outputs": [],
      "source": [
        "# Ruta del archivo Excel\n",
        "ruta_archivo = '/content/Motores_Unicos.xlsx'\n",
        "\n",
        "# Cargar el archivo Excel en un DataFrame\n",
        "Motores_Unicos = pd.read_excel(ruta_archivo, sheet_name='Sheet1')"
      ]
    },
    {
      "cell_type": "code",
      "source": [
        "frames = Motores_Unicos['FRAME'].unique().tolist()\n",
        "frames"
      ],
      "metadata": {
        "colab": {
          "base_uri": "https://localhost:8080/"
        },
        "id": "MnLswh1CqY_8",
        "outputId": "67f25744-5075-49d7-aba5-8a464ec87791"
      },
      "execution_count": null,
      "outputs": [
        {
          "output_type": "execute_result",
          "data": {
            "text/plain": [
              "['184-T',\n",
              " '145-T',\n",
              " 'S/DATO',\n",
              " '132-M',\n",
              " '254-T',\n",
              " '364-5T',\n",
              " '364-T',\n",
              " '326-T',\n",
              " '256-T',\n",
              " 'IP-54',\n",
              " '182-T',\n",
              " '213-T',\n",
              " 'F-902',\n",
              " '100-L',\n",
              " 'E-1320',\n",
              " 'E-1140',\n",
              " '180-L',\n",
              " 'T5-B14',\n",
              " '112-M',\n",
              " '180-M',\n",
              " '132-S',\n",
              " '160-L',\n",
              " '160-M/L',\n",
              " '245-T',\n",
              " '215-T',\n",
              " '280-S/M',\n",
              " '324-U',\n",
              " '284-U',\n",
              " 'IEC34-T',\n",
              " 'IP-55',\n",
              " '180-M/L',\n",
              " '324-T',\n",
              " '405-T',\n",
              " '225-M',\n",
              " '225-S/M',\n",
              " '404-T',\n",
              " '160-M',\n",
              " 'XU-180-TZ',\n",
              " '286-T',\n",
              " '284-T',\n",
              " '300-M',\n",
              " '365-T',\n",
              " '200-L',\n",
              " '444-T',\n",
              " '225-S',\n",
              " '404-5T',\n",
              " '444-TS',\n",
              " '324-TC',\n",
              " '213-TC',\n",
              " '444-5TC',\n",
              " '286-TC',\n",
              " '200-M',\n",
              " '254-TC',\n",
              " '365-TC',\n",
              " '284-TC',\n",
              " '215-TC',\n",
              " '145-TC',\n",
              " '445-T',\n",
              " 'M2Q-A',\n",
              " '234-T',\n",
              " '200-M/L',\n",
              " '315-S/M',\n",
              " '444-5T',\n",
              " '90-L',\n",
              " '280-M']"
            ]
          },
          "metadata": {},
          "execution_count": 3
        }
      ]
    },
    {
      "cell_type": "code",
      "source": [
        "len(frames)"
      ],
      "metadata": {
        "colab": {
          "base_uri": "https://localhost:8080/"
        },
        "id": "J-CEnPMMsGLV",
        "outputId": "116e0203-772d-47d8-bca8-83bd14888d42"
      },
      "execution_count": null,
      "outputs": [
        {
          "output_type": "execute_result",
          "data": {
            "text/plain": [
              "65"
            ]
          },
          "metadata": {},
          "execution_count": 4
        }
      ]
    },
    {
      "cell_type": "code",
      "source": [
        "# Contar la cantidad de \"S/DATO\" en la columna 'FRAME'\n",
        "count_s_dato = Motores_Unicos['FRAME'].value_counts().get('S/DATO', 0)\n",
        "\n",
        "print(f\"La cantidad de 'S/DATO' en la columna 'FRAME' es: {count_s_dato}\")"
      ],
      "metadata": {
        "colab": {
          "base_uri": "https://localhost:8080/"
        },
        "id": "4aq-FgAhUwNm",
        "outputId": "b7b3c4cc-18cf-4d1d-a7f8-aaca59f37148"
      },
      "execution_count": null,
      "outputs": [
        {
          "output_type": "stream",
          "name": "stdout",
          "text": [
            "La cantidad de 'S/DATO' en la columna 'FRAME' es: 50\n"
          ]
        }
      ]
    },
    {
      "cell_type": "markdown",
      "source": [
        "LISTAS DE CODIGOS DE FRAME SEGUN NORMATIVA IEC O NEMA"
      ],
      "metadata": {
        "id": "bTKY51NFU_Kj"
      }
    },
    {
      "cell_type": "code",
      "source": [
        "# Lista de tamaños de carcasa IEC\n",
        "frames_iec = [\n",
        "    \"90-S\", \"90-L\", \"100-S\", \"100-L\",\n",
        "    \"112-S\", \"112-M\", \"132-S\", \"132-M\", \"160-M\", \"160-L\", \"160-M/L\",\n",
        "    \"180-M\", \"180-L\", \"180-M/L\", \"200-M\", \"200-L\", \"200-M/L\",\n",
        "    \"225-S\", \"225-M\", \"225-S/M\", \"250-S\", \"250-M\", \"280-S\",\n",
        "    \"280-M\", \"280-S/M\", \"315-S\", \"315-M\", \"315-S/M\", \"355-S\", \"355-L\"\n",
        "]\n",
        "\n",
        "\n",
        "# Lista de tamaños de carcasa NEMA\n",
        "frames_nema = [\n",
        "    \"42\", \"48\", \"56\", \"56-H\", \"143-T\", \"145-T\", \"182\",\n",
        "    \"184\", \"182-T\", \"184-T\", \"213\", \"215\", \"213-T\", \"215-T\",\n",
        "    \"254\", \"256\", \"254-T\", \"256-T\", \"284\", \"286\", \"284-T\",\n",
        "    \"284-U\", \"286-T\", \"286-TS\", \"324\", \"326\", \"324-T\",\n",
        "    \"324-U\", \"326-T\", \"364\", \"365\", \"364-T\", \"364-5T\",\n",
        "    \"364-5TS\", \"365-T\", \"404\", \"405\", \"404-T\",\"404-5T\",\n",
        "    \"405-T\", \"444\", \"445\", \"444-T\", \"444-TS\",\"444-5T\",\n",
        "    \"445-T\", \"447-T\", \"449-T\",'324-TC', '213-TC',\n",
        "    '444-5TC','286-TC','254-TC', '365-TC', '284-TC','215-TC','145-TC'\n",
        "]\n"
      ],
      "metadata": {
        "id": "il7YgOzVpM4D"
      },
      "execution_count": null,
      "outputs": []
    },
    {
      "cell_type": "code",
      "source": [
        "# Crear una nueva columna 'NORMA' con valores iniciales como 'NINGUNO'\n",
        "Motores_Unicos['NORMA'] = 'NINGUNO'\n",
        "\n",
        "# Crear una nueva columna 'TIPO_NEMA' con valores iniciales vacíos\n",
        "Motores_Unicos['TIPO_NEMA'] = ''\n",
        "\n",
        "# Iterar a través del DataFrame y actualizar las columnas 'NORMA' y 'TIPO_NEMA'\n",
        "for index, row in Motores_Unicos.iterrows():\n",
        "    frame = str(row['FRAME'])  # Convertir a cadena para comparar\n",
        "    if frame in frames_iec:\n",
        "        Motores_Unicos.at[index, 'NORMA'] = 'IEC'\n",
        "    elif frame in frames_nema:\n",
        "        Motores_Unicos.at[index, 'NORMA'] = 'NEMA'"
      ],
      "metadata": {
        "id": "HWyvQDKRxGEj"
      },
      "execution_count": null,
      "outputs": []
    },
    {
      "cell_type": "code",
      "source": [
        "# Mostrar el DataFrame actualizado\n",
        "print(Motores_Unicos)"
      ],
      "metadata": {
        "id": "p5LYUBSC3H1h"
      },
      "execution_count": null,
      "outputs": []
    },
    {
      "cell_type": "code",
      "source": [
        "# Contar la frecuencia de cada valor único en la columna 'FRAME'\n",
        "frame_counts = Motores_Unicos['FRAME'].value_counts()\n",
        "\n",
        "# Crear un nuevo DataFrame con los valores únicos y sus conteos\n",
        "frame_summary = pd.DataFrame({'FRAME': frame_counts.index, 'Count': frame_counts.values})\n",
        "\n",
        "# Agregar la columna 'NORMA' basada en los valores únicos de 'FRAME'\n",
        "frame_summary['NORMA'] = frame_summary['FRAME'].apply(lambda x: 'IEC' if str(x) in frames_iec else 'NEMA' if str(x) in frames_nema else 'NINGUNO')\n"
      ],
      "metadata": {
        "id": "E6Y-AKc531kC"
      },
      "execution_count": null,
      "outputs": []
    },
    {
      "cell_type": "code",
      "source": [
        "# Contar la frecuencia de cada valor único en la columna 'NORMA'\n",
        "norma_counts = Motores_Unicos['NORMA'].value_counts()\n",
        "\n",
        "# Imprimir los resultados\n",
        "norma_counts"
      ],
      "metadata": {
        "id": "e8QA_HZdNQ_Y"
      },
      "execution_count": null,
      "outputs": []
    },
    {
      "cell_type": "code",
      "source": [
        "import matplotlib.pyplot as plt\n",
        "import seaborn as sns\n",
        "\n",
        "# Sustituye 'norma_counts' por tus datos reales\n",
        "norma_counts = Motores_Unicos['NORMA'].value_counts()\n",
        "\n",
        "# Paleta de colores personalizada\n",
        "colors = sns.color_palette('pastel', len(norma_counts))\n",
        "\n",
        "# Crear el gráfico de torta\n",
        "plt.figure(figsize=(10, 10))\n",
        "plt.pie(\n",
        "    norma_counts,\n",
        "    labels=None,  # Las etiquetas principales se eliminan aquí\n",
        "    autopct=lambda p: f'{p:.1f}%\\n({int(p * sum(norma_counts) / 100)})',\n",
        "    startangle=90,\n",
        "    colors=colors,\n",
        "    wedgeprops={'edgecolor': 'black'},\n",
        "    radius=0.8\n",
        ")\n",
        "\n",
        "# Añadir etiquetas manualmente dentro del gráfico\n",
        "plt.legend(\n",
        "    labels=[f\"{label}\" for label in norma_counts.index],\n",
        "    loc=\"best\",\n",
        "    title=\"Normas\",\n",
        "    bbox_to_anchor=(1, 0.5)\n",
        ")\n",
        "\n",
        "plt.title('Distribución de Normas', fontsize=16, fontweight='bold')\n",
        "plt.axis('equal')\n",
        "plt.tight_layout()\n",
        "plt.show()\n"
      ],
      "metadata": {
        "id": "MLJmCIdBQhg2"
      },
      "execution_count": null,
      "outputs": []
    },
    {
      "cell_type": "code",
      "source": [
        "frame_summary"
      ],
      "metadata": {
        "id": "Aawvo1gjxivJ"
      },
      "execution_count": null,
      "outputs": []
    },
    {
      "cell_type": "markdown",
      "source": [
        "DESCARGAR RESUMEN DE LOS FRAME UNICOS"
      ],
      "metadata": {
        "id": "lUvHXd2lNNCE"
      }
    },
    {
      "cell_type": "code",
      "source": [
        "# Exportar el DataFrame frame_summary a un archivo Excel\n",
        "frame_summary.to_excel('resumen_frame.xlsx', index=False)\n",
        "\n",
        "# Descargar el archivo Excel\n",
        "from google.colab import files\n",
        "files.download('resumen_frame.xlsx')"
      ],
      "metadata": {
        "colab": {
          "base_uri": "https://localhost:8080/",
          "height": 17
        },
        "id": "3RRmOreNu2Ro",
        "outputId": "4c2d08dd-bf7c-4ecf-9ebd-0ecd3964c669"
      },
      "execution_count": null,
      "outputs": [
        {
          "output_type": "display_data",
          "data": {
            "text/plain": [
              "<IPython.core.display.Javascript object>"
            ],
            "application/javascript": [
              "\n",
              "    async function download(id, filename, size) {\n",
              "      if (!google.colab.kernel.accessAllowed) {\n",
              "        return;\n",
              "      }\n",
              "      const div = document.createElement('div');\n",
              "      const label = document.createElement('label');\n",
              "      label.textContent = `Downloading \"${filename}\": `;\n",
              "      div.appendChild(label);\n",
              "      const progress = document.createElement('progress');\n",
              "      progress.max = size;\n",
              "      div.appendChild(progress);\n",
              "      document.body.appendChild(div);\n",
              "\n",
              "      const buffers = [];\n",
              "      let downloaded = 0;\n",
              "\n",
              "      const channel = await google.colab.kernel.comms.open(id);\n",
              "      // Send a message to notify the kernel that we're ready.\n",
              "      channel.send({})\n",
              "\n",
              "      for await (const message of channel.messages) {\n",
              "        // Send a message to notify the kernel that we're ready.\n",
              "        channel.send({})\n",
              "        if (message.buffers) {\n",
              "          for (const buffer of message.buffers) {\n",
              "            buffers.push(buffer);\n",
              "            downloaded += buffer.byteLength;\n",
              "            progress.value = downloaded;\n",
              "          }\n",
              "        }\n",
              "      }\n",
              "      const blob = new Blob(buffers, {type: 'application/binary'});\n",
              "      const a = document.createElement('a');\n",
              "      a.href = window.URL.createObjectURL(blob);\n",
              "      a.download = filename;\n",
              "      div.appendChild(a);\n",
              "      a.click();\n",
              "      div.remove();\n",
              "    }\n",
              "  "
            ]
          },
          "metadata": {}
        },
        {
          "output_type": "display_data",
          "data": {
            "text/plain": [
              "<IPython.core.display.Javascript object>"
            ],
            "application/javascript": [
              "download(\"download_3c06c245-cd88-4a5c-9aeb-dcaf03bad4af\", \"resumen_frame.xlsx\", 6082)"
            ]
          },
          "metadata": {}
        }
      ]
    },
    {
      "cell_type": "markdown",
      "source": [
        "DESCARGAR MOTORES UNICOS ACTUALIZADO"
      ],
      "metadata": {
        "id": "71daLndUNIkU"
      }
    },
    {
      "cell_type": "code",
      "source": [
        "# Exportar el DataFrame frame_summary a un archivo Excel\n",
        "Motores_Unicos.to_excel('Motores_Unicos.xlsx', index=False)\n",
        "\n",
        "# Descargar el archivo Excel\n",
        "from google.colab import files\n",
        "files.download('Motores_Unicos.xlsx')"
      ],
      "metadata": {
        "colab": {
          "base_uri": "https://localhost:8080/",
          "height": 17
        },
        "id": "m0zcPMhpLv5c",
        "outputId": "8f6bc2e3-86a5-4c90-e4b6-339b041ca792"
      },
      "execution_count": null,
      "outputs": [
        {
          "output_type": "display_data",
          "data": {
            "text/plain": [
              "<IPython.core.display.Javascript object>"
            ],
            "application/javascript": [
              "\n",
              "    async function download(id, filename, size) {\n",
              "      if (!google.colab.kernel.accessAllowed) {\n",
              "        return;\n",
              "      }\n",
              "      const div = document.createElement('div');\n",
              "      const label = document.createElement('label');\n",
              "      label.textContent = `Downloading \"${filename}\": `;\n",
              "      div.appendChild(label);\n",
              "      const progress = document.createElement('progress');\n",
              "      progress.max = size;\n",
              "      div.appendChild(progress);\n",
              "      document.body.appendChild(div);\n",
              "\n",
              "      const buffers = [];\n",
              "      let downloaded = 0;\n",
              "\n",
              "      const channel = await google.colab.kernel.comms.open(id);\n",
              "      // Send a message to notify the kernel that we're ready.\n",
              "      channel.send({})\n",
              "\n",
              "      for await (const message of channel.messages) {\n",
              "        // Send a message to notify the kernel that we're ready.\n",
              "        channel.send({})\n",
              "        if (message.buffers) {\n",
              "          for (const buffer of message.buffers) {\n",
              "            buffers.push(buffer);\n",
              "            downloaded += buffer.byteLength;\n",
              "            progress.value = downloaded;\n",
              "          }\n",
              "        }\n",
              "      }\n",
              "      const blob = new Blob(buffers, {type: 'application/binary'});\n",
              "      const a = document.createElement('a');\n",
              "      a.href = window.URL.createObjectURL(blob);\n",
              "      a.download = filename;\n",
              "      div.appendChild(a);\n",
              "      a.click();\n",
              "      div.remove();\n",
              "    }\n",
              "  "
            ]
          },
          "metadata": {}
        },
        {
          "output_type": "display_data",
          "data": {
            "text/plain": [
              "<IPython.core.display.Javascript object>"
            ],
            "application/javascript": [
              "download(\"download_af9678d0-1fe7-48d1-984e-fce2413bd68c\", \"Motores_Unicos.xlsx\", 17480)"
            ]
          },
          "metadata": {}
        }
      ]
    }
  ]
}